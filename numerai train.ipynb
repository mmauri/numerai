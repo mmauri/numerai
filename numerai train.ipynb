{
 "cells": [
  {
   "cell_type": "code",
   "execution_count": 1,
   "metadata": {},
   "outputs": [
    {
     "name": "stdout",
     "output_type": "stream",
     "text": [
      "288\n"
     ]
    },
    {
     "name": "stderr",
     "output_type": "stream",
     "text": [
      "2021-10-31 06:36:36,411 INFO numerapi.utils: target file already exists\n",
      "2021-10-31 06:36:36,413 INFO numerapi.utils: download complete\n",
      "2021-10-31 06:36:37,353 INFO numerapi.utils: starting download\n",
      "numerai_tournament_data_288_int8.parquet:  99%|█████████▊| 574M/582M [00:12<00:00, 50.8MB/s]2021-10-31 06:36:51,235 INFO numerapi.utils: target file already exists\n",
      "2021-10-31 06:36:51,237 INFO numerapi.utils: download complete\n",
      "2021-10-31 06:36:52,147 INFO numerapi.utils: starting download\n",
      "\n",
      "example_predictions_288.parquet:   0%|          | 0.00/33.5M [00:00<?, ?B/s]\n",
      "example_predictions_288.parquet:   0%|          | 2.05k/33.5M [00:00<39:18, 14.2kB/s]\n",
      "example_predictions_288.parquet:   0%|          | 44.0k/33.5M [00:00<03:11, 174kB/s] \n",
      "example_predictions_288.parquet:   0%|          | 95.2k/33.5M [00:00<02:12, 252kB/s]\n",
      "example_predictions_288.parquet:   1%|          | 200k/33.5M [00:00<01:07, 495kB/s] \n",
      "example_predictions_288.parquet:   1%|▏         | 425k/33.5M [00:00<00:32, 1.00MB/s]\n",
      "example_predictions_288.parquet:   2%|▏         | 670k/33.5M [00:00<00:24, 1.31MB/s]\n",
      "example_predictions_288.parquet:   2%|▏         | 807k/33.5M [00:00<00:25, 1.30MB/s]\n",
      "example_predictions_288.parquet:   4%|▍         | 1.42M/33.5M [00:01<00:13, 2.35MB/s]\n",
      "example_predictions_288.parquet:   8%|▊         | 2.69M/33.5M [00:01<00:06, 5.08MB/s]\n",
      "example_predictions_288.parquet:  16%|█▌        | 5.28M/33.5M [00:01<00:02, 10.5MB/s]\n",
      "example_predictions_288.parquet:  19%|█▉        | 6.52M/33.5M [00:01<00:02, 11.0MB/s]\n",
      "example_predictions_288.parquet:  33%|███▎      | 11.1M/33.5M [00:01<00:01, 19.3MB/s]\n",
      "example_predictions_288.parquet:  56%|█████▌    | 18.7M/33.5M [00:01<00:00, 34.7MB/s]\n",
      "example_predictions_288.parquet:  67%|██████▋   | 22.3M/33.5M [00:01<00:00, 34.6MB/s]\n",
      "example_predictions_288.parquet:  81%|████████▏ | 27.3M/33.5M [00:01<00:00, 36.4MB/s]2021-10-31 06:36:54,959 INFO numerapi.utils: target file already exists\n",
      "2021-10-31 06:36:54,961 INFO numerapi.utils: download complete\n"
     ]
    },
    {
     "name": "stdout",
     "output_type": "stream",
     "text": [
      "\\ Reading parquet data"
     ]
    },
    {
     "name": "stderr",
     "output_type": "stream",
     "text": [
      "example_predictions_288.parquet: 33.5MB [00:02, 11.7MB/s]                            \n"
     ]
    },
    {
     "name": "stdout",
     "output_type": "stream",
     "text": [
      "/ Reading parquet data"
     ]
    },
    {
     "name": "stderr",
     "output_type": "stream",
     "text": [
      "numerai_tournament_data_288_int8.parquet: 582MB [00:22, 25.9MB/s]                           \n"
     ]
    },
    {
     "name": "stdout",
     "output_type": "stream",
     "text": [
      "v Reading parquet data\n"
     ]
    },
    {
     "data": {
      "text/plain": [
       "0"
      ]
     },
     "execution_count": 1,
     "metadata": {},
     "output_type": "execute_result"
    },
    {
     "name": "stdout",
     "output_type": "stream",
     "text": []
    }
   ],
   "source": [
    "import pandas as pd\n",
    "from lightgbm import LGBMRegressor\n",
    "import gc\n",
    "from numerapi import NumerAPI\n",
    "from halo import Halo\n",
    "from utils import save_model, load_model, neutralize, get_biggest_change_features, validation_metrics, download_data\n",
    "\n",
    "\n",
    "\n",
    "napi = NumerAPI()\n",
    "spinner = Halo(text='', spinner='dots')\n",
    "\n",
    "current_round = napi.get_current_round(tournament=8)  # tournament 8 is the primary Numerai Tournament\n",
    "print(current_round)\n",
    "\n",
    "# read in all of the new datas\n",
    "# tournament data and example predictions change every week so we specify the round in their names\n",
    "# training and validation data only change periodically, so no need to download them over again every single week\n",
    "napi.download_dataset(\"numerai_training_data_int8.parquet\", \"numerai_training_data_int8.parquet\")\n",
    "napi.download_dataset(\"numerai_tournament_data_int8.parquet\", f\"numerai_tournament_data_{current_round}_int8.parquet\")\n",
    "napi.download_dataset(\"numerai_validation_data_int8.parquet\", f\"numerai_validation_data_int8.parquet\")\n",
    "napi.download_dataset(\"example_predictions.parquet\", f\"example_predictions_{current_round}.parquet\")\n",
    "napi.download_dataset(\"example_validation_predictions.parquet\", \"example_validation_predictions.parquet\")\n",
    "\n",
    "spinner.start('Reading parquet data')\n",
    "training_data = pd.read_parquet('numerai_training_data_int8.parquet')\n",
    "tournament_data = pd.read_parquet(f'numerai_tournament_data_{current_round}_int8.parquet')\n",
    "validation_data = pd.read_parquet('numerai_validation_data_int8.parquet')\n",
    "example_preds = pd.read_parquet(f'example_predictions_{current_round}.parquet')\n",
    "validation_preds = pd.read_parquet('example_validation_predictions.parquet')\n",
    "spinner.succeed()\n",
    "\n",
    "EXAMPLE_PREDS_COL = \"example_preds\"\n",
    "validation_data[EXAMPLE_PREDS_COL] = validation_preds[\"prediction\"]\n",
    "\n",
    "TARGET_COL = \"target\"\n",
    "ERA_COL = \"era\"\n",
    "\n",
    "# all feature columns start with the prefix \"feature_\"\n",
    "#feature_cols = [c for c in training_data if c.startswith(\"feature_\")]\n",
    "\n",
    "gc.collect()"
   ]
  },
  {
   "cell_type": "code",
   "execution_count": 2,
   "metadata": {},
   "outputs": [
    {
     "data": {
      "text/plain": [
       "38"
      ]
     },
     "execution_count": 2,
     "metadata": {},
     "output_type": "execute_result"
    },
    {
     "name": "stdout",
     "output_type": "stream",
     "text": []
    }
   ],
   "source": [
    "f=['feature_haziest_lifelike_horseback', 'feature_glare_factional_assessment', 'feature_exorbitant_myeloid_crinkle', 'feature_travelled_semipermeable_perruquier', 'feature_branched_dilatory_sunbelt', 'feature_moralistic_heartier_typhoid', 'feature_introvert_symphysial_assegai', 'feature_gullable_sanguine_incongruity', 'feature_agile_unrespited_gaucho', 'feature_canalicular_peeling_lilienthal', 'feature_unvaried_social_bangkok', 'feature_lofty_acceptable_challenge', 'feature_grandmotherly_circumnavigable_homonymity', 'feature_undivorced_unsatisfying_praetorium', 'feature_unaired_operose_lactoprotein']\n",
    "f+=['feature_travelled_semipermeable_perruquier', 'feature_planned_superimposed_bend', 'feature_moralistic_heartier_typhoid', 'feature_crowning_frustrate_kampala', 'feature_unaired_operose_lactoprotein', 'feature_flintier_enslaved_borsch', 'feature_cambial_bigoted_bacterioid', 'feature_jerkwater_eustatic_electrocardiograph', 'feature_unvaried_social_bangkok', 'feature_communicatory_unrecommended_velure', 'feature_lofty_acceptable_challenge', 'feature_grandmotherly_circumnavigable_homonymity', 'feature_antichristian_slangiest_idyllist', 'feature_assenting_darn_arthropod', 'feature_haziest_lifelike_horseback', 'feature_exorbitant_myeloid_crinkle', 'feature_beery_somatologic_elimination', 'feature_silver_handworked_scauper', 'feature_canalicular_peeling_lilienthal', 'feature_undivorced_unsatisfying_praetorium']\n",
    "f+=['feature_glare_factional_assessment', 'feature_travelled_semipermeable_perruquier', 'feature_moralistic_heartier_typhoid', 'feature_stylistic_honduran_comprador', 'feature_crowning_frustrate_kampala', 'feature_unaired_operose_lactoprotein', 'feature_flintier_enslaved_borsch', 'feature_unvaried_social_bangkok', 'feature_apomictical_motorized_vaporisation', 'feature_lofty_acceptable_challenge', 'feature_antichristian_slangiest_idyllist', 'feature_store_apteral_isocheim', 'feature_unforbidden_highbrow_kafir', 'feature_buxom_curtained_sienna', 'feature_haziest_lifelike_horseback', 'feature_exorbitant_myeloid_crinkle', 'feature_silver_handworked_scauper', 'feature_canalicular_peeling_lilienthal', 'feature_introvert_symphysial_assegai', 'feature_univalve_abdicant_distrail', 'feature_undivorced_unsatisfying_praetorium']\n",
    "f+=['feature_glare_factional_assessment', 'feature_unsealed_suffixal_babar', 'feature_travelled_semipermeable_perruquier', 'feature_moralistic_heartier_typhoid', 'feature_twisty_adequate_minutia', 'feature_flintier_enslaved_borsch', 'feature_slack_calefacient_tableau', 'feature_bhutan_imagism_dolerite', 'feature_unvaried_social_bangkok', 'feature_communicatory_unrecommended_velure', 'feature_lofty_acceptable_challenge', 'feature_grandmotherly_circumnavigable_homonymity', 'feature_chuffier_analectic_conchiolin', 'feature_antichristian_slangiest_idyllist', 'feature_unwonted_trusted_fixative', 'feature_haziest_lifelike_horseback', 'feature_exorbitant_myeloid_crinkle', 'feature_beery_somatologic_elimination', 'feature_winsome_irreproachable_milkfish', 'feature_gullable_sanguine_incongruity', 'feature_silver_handworked_scauper', 'feature_canalicular_peeling_lilienthal', 'feature_introvert_symphysial_assegai', 'feature_undivorced_unsatisfying_praetorium']\n",
    "\n",
    "feature_cols = list(set(f))\n",
    "len(feature_cols)"
   ]
  },
  {
   "cell_type": "code",
   "execution_count": 3,
   "metadata": {},
   "outputs": [
    {
     "name": "stdout",
     "output_type": "stream",
     "text": []
    }
   ],
   "source": [
    "def create_lgbm_regressor(model_name:str):\n",
    "    model = load_model(model_name)\n",
    "    if not model:\n",
    "        print(f\"model not found, training new one\")\n",
    "        params = {\"n_estimators\": 2000,\n",
    "                \"learning_rate\": 0.01,\n",
    "                \"max_depth\": 5,\n",
    "                \"num_leaves\": 2 ** 5,\n",
    "                \"colsample_bytree\": 0.1}\n",
    "\n",
    "        model = LGBMRegressor(**params)\n",
    "\n",
    "        # train on all of train, predict on val, predict on tournament, save the model so we don't have to train next time\n",
    "        spinner.start('Training model')\n",
    "        model.fit(training_data.loc[:, feature_cols], training_data[TARGET_COL])\n",
    "        print(f\"saving new model: {model_name}\")\n",
    "        save_model(model, model_name)\n",
    "        spinner.succeed()\n",
    "\n",
    "    # check for nans and fill nans\n",
    "    if tournament_data.loc[tournament_data[\"data_type\"] == \"live\", feature_cols].isna().sum().sum():\n",
    "        cols_w_nan = tournament_data.loc[tournament_data[\"data_type\"] == \"live\", feature_cols].isna().sum()\n",
    "        total_rows = tournament_data[tournament_data[\"data_type\"] == \"live\"]\n",
    "        print(f\"Number of nans per column this week: {cols_w_nan[cols_w_nan > 0]}\")\n",
    "        print(f\"out of {total_rows} total rows\")\n",
    "        print(f\"filling nans with 0.5\")\n",
    "        tournament_data.loc[:, feature_cols].fillna(0.5, inplace=True)\n",
    "    else:\n",
    "        print(\"No nans in the features this week!\")\n",
    "\n",
    "    return model\n"
   ]
  },
  {
   "cell_type": "code",
   "execution_count": 4,
   "metadata": {},
   "outputs": [
    {
     "name": "stdout",
     "output_type": "stream",
     "text": []
    }
   ],
   "source": [
    "def save_prediction(model, model_name, neutralize_proportion = 0.8, is_xgbRanker = False, use_pool = False):\n",
    "    spinner.start('Predicting on latest data')\n",
    "    # double check the feature that the model expects vs what is available\n",
    "    # this prevents our pipeline from failing if Numerai adds more data and we don't have time to retrain!\n",
    "\n",
    "\n",
    "    try:\n",
    "        model_expected_features = model.booster_.feature_name()\n",
    "    except:\n",
    "        try:\n",
    "            model_expected_features = model.get_booster().feature_names\n",
    "        except:\n",
    "            model_expected_features = model.feature_names_\n",
    "        \n",
    "    if set(model_expected_features) != set(feature_cols):\n",
    "        print(f\"New features are available! Might want to retrain model {model_name}.\")\n",
    "\n",
    "    if not use_pool:\n",
    "        # if is_xgbRanker:\n",
    "            \n",
    "        #     for era in validation_data.era.unique():\n",
    "        #         print(f\"predicting valid era:{era}\")\n",
    "        #         validation_data.loc[validation_data.era == era, f\"preds_{model_name}\"] = \\\n",
    "        #             model.predict(validation_data.loc[validation_data.era == era, model_expected_features])\n",
    "\n",
    "        #     for era in tournament_data.era.unique():\n",
    "        #         print(f\"predicting tournament era:{era}\")\n",
    "        #         tournament_data.loc[tournament_data.era == era, f\"preds_{model_name}\"] = \\\n",
    "        #             model.predict(tournament_data.loc[tournament_data.era == era, model_expected_features])\n",
    "        # else:\n",
    "        validation_data.loc[:, f\"preds_{model_name}\"] = model.predict(validation_data.loc[:, model_expected_features])\n",
    "        tournament_data.loc[:, f\"preds_{model_name}\"] = model.predict(tournament_data.loc[:, model_expected_features])\n",
    "    else:\n",
    "        #catboost ranker is not compayible with sklearn\n",
    "\n",
    "        test_pool = Pool(\n",
    "            data=validation_data.loc[:, feature_cols],\n",
    "            label=validation_data[TARGET_COL],\n",
    "            group_id=validation_data.era\n",
    "        )\n",
    "        validation_data.loc[:, f\"preds_{model_name}\"] = model.predict(test_pool)\n",
    "\n",
    "        tournament_pool = Pool (\n",
    "            data = tournament_data.loc[:, model_expected_features],\n",
    "            group_id = tournament_data.era\n",
    "        )\n",
    "\n",
    "        tournament_data.loc[:, f\"preds_{model_name}\"] = model.predict(tournament_pool)\n",
    "\n",
    "    spinner.succeed()\n",
    "\n",
    "    spinner.start('Neutralizing to risky features')\n",
    "    # getting the per era correlation of each feature vs the target\n",
    "    all_feature_corrs = training_data.groupby(ERA_COL).apply(lambda d: d[feature_cols].corrwith(d[TARGET_COL]))\n",
    "\n",
    "    # find the riskiest features by comparing their correlation vs the target in half 1 and half 2 of training data\n",
    "    riskiest_features = get_biggest_change_features(all_feature_corrs, 50)\n",
    "\n",
    "    # neutralize our predictions to the riskiest features\n",
    "    validation_data[f\"preds_{model_name}_neutral_riskiest_50\"] = neutralize(df=validation_data,\n",
    "                                                                            columns=[f\"preds_{model_name}\"],\n",
    "                                                                            neutralizers=riskiest_features,\n",
    "                                                                            proportion=neutralize_proportion,\n",
    "                                                                            normalize=True,\n",
    "                                                                            era_col=ERA_COL)\n",
    "\n",
    "    tournament_data[f\"preds_{model_name}_neutral_riskiest_50\"] = neutralize(df=tournament_data,\n",
    "                                                                            columns=[f\"preds_{model_name}\"],\n",
    "                                                                            neutralizers=riskiest_features,\n",
    "                                                                            proportion=neutralize_proportion,\n",
    "                                                                            normalize=True,\n",
    "                                                                            era_col=ERA_COL)\n",
    "    spinner.succeed()\n",
    "\n",
    "    model_to_submit = f\"preds_{model_name}_neutral_riskiest_50\"\n",
    "\n",
    "    # rename best model to prediction and rank from 0 to 1 to meet diagnostic/submission file requirements\n",
    "    validation_data[\"prediction\"] = validation_data[model_to_submit].rank(pct=True)\n",
    "    tournament_data[\"prediction\"] = tournament_data[model_to_submit].rank(pct=True)\n",
    "    validation_data[\"prediction\"].to_csv(f\"validation_predictions_{current_round}_{model_to_submit}.csv\")\n",
    "    tournament_data[\"prediction\"].to_csv(f\"tournament_predictions_{current_round}_{model_to_submit}.csv\")\n",
    "\n",
    "    # get some stats about each of our models to compare...\n",
    "    # fast_mode=True so that we skip some of the stats that are slower to calculate\n",
    "    validation_stats = validation_metrics(validation_data, [model_to_submit], example_col=EXAMPLE_PREDS_COL, fast_mode=True)\n",
    "    print(validation_stats[[\"mean\", \"sharpe\"]].to_markdown())"
   ]
  },
  {
   "cell_type": "code",
   "execution_count": 5,
   "metadata": {},
   "outputs": [
    {
     "name": "stdout",
     "output_type": "stream",
     "text": []
    }
   ],
   "source": [
    "#Blitter4 XGBRank\n",
    "from xgboost import XGBRanker\n",
    "from collections import Counter\n",
    "\n",
    "\n",
    "def create_xgb_ranker(model_name:str):\n",
    "    model = load_model(model_name)\n",
    "    if not model:\n",
    "        print(f\"model not found, training new one\")\n",
    "\n",
    "                        \n",
    "        model = XGBRanker(max_depth=5, learning_rate=0.01, n_estimators=2000, n_jobs=-1, colsample_bytree=0.1)\n",
    "        # cdf = training_data.groupby('era').agg(['count'])\n",
    "        # group = cdf[cdf.columns[0]].values\n",
    "        # del cdf\n",
    "        group = Counter(training_data.era).values()\n",
    "\n",
    "        # train on all of train, predict on val, predict on tournament, save the model so we don't have to train next time\n",
    "        spinner.start('Training model')\n",
    "        model.fit(training_data.loc[:, feature_cols], training_data[TARGET_COL], group=group)\n",
    "        print(f\"saving new model: {model_name}\")\n",
    "        save_model(model, model_name)\n",
    "        spinner.succeed()\n",
    "\n",
    "    # check for nans and fill nans\n",
    "    if tournament_data.loc[tournament_data[\"data_type\"] == \"live\", feature_cols].isna().sum().sum():\n",
    "        cols_w_nan = tournament_data.loc[tournament_data[\"data_type\"] == \"live\", feature_cols].isna().sum()\n",
    "        total_rows = tournament_data[tournament_data[\"data_type\"] == \"live\"]\n",
    "        print(f\"Number of nans per column this week: {cols_w_nan[cols_w_nan > 0]}\")\n",
    "        print(f\"out of {total_rows} total rows\")\n",
    "        print(f\"filling nans with 0.5\")\n",
    "        tournament_data.loc[:, feature_cols].fillna(0.5, inplace=True)\n",
    "    else:\n",
    "        print(\"No nans in the features this week!\")\n",
    "\n",
    "    return model"
   ]
  },
  {
   "cell_type": "code",
   "execution_count": 6,
   "metadata": {},
   "outputs": [
    {
     "name": "stdout",
     "output_type": "stream",
     "text": []
    }
   ],
   "source": [
    "from xgboost import XGBRegressor\n",
    "\n",
    "def create_xgb_regressor(model_name:str):\n",
    "    model = load_model(model_name)\n",
    "    if not model:\n",
    "        print(f\"model not found, training new one\")\n",
    "        params = {\"n_estimators\": 2000,\n",
    "                \"learning_rate\": 0.01,\n",
    "                \"max_depth\": 5,\n",
    "                \"num_leaves\": 2 ** 5,\n",
    "                \"colsample_bytree\": 0.1}\n",
    "\n",
    "        model = XGBRegressor(max_depth=5, learning_rate=0.01, \\\n",
    "                        n_estimators=2000, colsample_bytree=0.1) #provar regularitzacions\n",
    "\n",
    "        # train on all of train, predict on val, predict on tournament, save the model so we don't have to train next time\n",
    "        spinner.start('Training model')\n",
    "        model.fit(training_data.loc[:, feature_cols], training_data[TARGET_COL])\n",
    "        print(f\"saving new model: {model_name}\")\n",
    "        save_model(model, model_name)\n",
    "        spinner.succeed()\n",
    "\n",
    "    # check for nans and fill nans\n",
    "    if tournament_data.loc[tournament_data[\"data_type\"] == \"live\", feature_cols].isna().sum().sum():\n",
    "        cols_w_nan = tournament_data.loc[tournament_data[\"data_type\"] == \"live\", feature_cols].isna().sum()\n",
    "        total_rows = tournament_data[tournament_data[\"data_type\"] == \"live\"]\n",
    "        print(f\"Number of nans per column this week: {cols_w_nan[cols_w_nan > 0]}\")\n",
    "        print(f\"out of {total_rows} total rows\")\n",
    "        print(f\"filling nans with 0.5\")\n",
    "        tournament_data.loc[:, feature_cols].fillna(0.5, inplace=True)\n",
    "    else:\n",
    "        print(\"No nans in the features this week!\")\n",
    "\n",
    "    return model"
   ]
  },
  {
   "cell_type": "code",
   "execution_count": 7,
   "metadata": {},
   "outputs": [
    {
     "name": "stdout",
     "output_type": "stream",
     "text": []
    }
   ],
   "source": [
    "#BLITTER5 - Catboost regressor\n",
    "from catboost import CatBoostRegressor\n",
    "\n",
    "def create_catboost_regressor(model_name:str):\n",
    "\n",
    "    model = load_model(model_name)\n",
    "    if not model:\n",
    "        print(f\"model not found, training new one\")\n",
    "\n",
    "        model = CatBoostRegressor(max_depth=5, learning_rate=0.01, \\\n",
    "                        n_estimators=2000, rsm=0.1) #provar regularitzacions\n",
    "\n",
    "        # train on all of train, predict on val, predict on tournament, save the model so we don't have to train next time\n",
    "        spinner.start('Training model')\n",
    "        model.fit(training_data.loc[:, feature_cols], training_data[TARGET_COL])\n",
    "        print(f\"saving new model: {model_name}\")\n",
    "        save_model(model, model_name)\n",
    "        spinner.succeed()\n",
    "\n",
    "    # check for nans and fill nans\n",
    "    if tournament_data.loc[tournament_data[\"data_type\"] == \"live\", feature_cols].isna().sum().sum():\n",
    "        cols_w_nan = tournament_data.loc[tournament_data[\"data_type\"] == \"live\", feature_cols].isna().sum()\n",
    "        total_rows = tournament_data[tournament_data[\"data_type\"] == \"live\"]\n",
    "        print(f\"Number of nans per column this week: {cols_w_nan[cols_w_nan > 0]}\")\n",
    "        print(f\"out of {total_rows} total rows\")\n",
    "        print(f\"filling nans with 0.5\")\n",
    "        tournament_data.loc[:, feature_cols].fillna(0.5, inplace=True)\n",
    "    else:\n",
    "        print(\"No nans in the features this week!\")\n",
    "    return model"
   ]
  },
  {
   "cell_type": "code",
   "execution_count": 8,
   "metadata": {},
   "outputs": [
    {
     "name": "stdout",
     "output_type": "stream",
     "text": []
    }
   ],
   "source": [
    "from catboost import CatBoostRanker, Pool\n",
    "\n",
    "def create_catboost_ranker(model_name : str, loss_function : str, plot = True, verbose = False):\n",
    "    gc.collect()\n",
    "    print(f\"predicting {model_name}\")\n",
    "    model = load_model(model_name)\n",
    "    if not model:\n",
    "        print(f\"model not found, training new one\")\n",
    "        parameters = {\n",
    "            'iterations': 200,\n",
    "            'custom_metric': ['NDCG', 'PFound'],\n",
    "            'verbose': verbose,\n",
    "            'random_seed': 0,\n",
    "            'rsm' : 0.1,\n",
    "            'learning_rate' : 0.01,\n",
    "            'loss_function' : loss_function,\n",
    "            #'train_dir' : loss_function\n",
    "        }\n",
    "\n",
    "        train_pool = Pool(\n",
    "            data=training_data.loc[:, feature_cols],\n",
    "            label=training_data[TARGET_COL],\n",
    "            group_id=training_data.era\n",
    "        )\n",
    "\n",
    "        test_pool = Pool(\n",
    "            data=validation_data.loc[:, feature_cols],\n",
    "            label=validation_data[TARGET_COL],\n",
    "            group_id=validation_data.era\n",
    "        )\n",
    "\n",
    "        model = CatBoostRanker(**parameters)\n",
    "\n",
    "\n",
    "        # train on all of train, predict on val, predict on tournament, save the model so we don't have to train next time\n",
    "        #spinner.start('Training model')\n",
    "        model.fit(train_pool, eval_set=test_pool, early_stopping_rounds=10, plot=plot)\n",
    "\n",
    "        print(f\"saving new model: {model_name}\")\n",
    "        save_model(model, model_name)\n",
    "        #spinner.succeed()\n",
    "\n",
    "    # check for nans and fill nans\n",
    "    if tournament_data.loc[tournament_data[\"data_type\"] == \"live\", feature_cols].isna().sum().sum():\n",
    "        cols_w_nan = tournament_data.loc[tournament_data[\"data_type\"] == \"live\", feature_cols].isna().sum()\n",
    "        total_rows = tournament_data[tournament_data[\"data_type\"] == \"live\"]\n",
    "        print(f\"Number of nans per column this week: {cols_w_nan[cols_w_nan > 0]}\")\n",
    "        print(f\"out of {total_rows} total rows\")\n",
    "        print(f\"filling nans with 0.5\")\n",
    "        tournament_data.loc[:, feature_cols].fillna(0.5, inplace=True)\n",
    "    else:\n",
    "        print(\"No nans in the features this week!\")\n",
    "\n",
    "    return model"
   ]
  },
  {
   "cell_type": "code",
   "execution_count": 9,
   "metadata": {},
   "outputs": [
    {
     "name": "stdout",
     "output_type": "stream",
     "text": [
      "No nans in the features this week!\n",
      "v Predicting on latest data\n",
      "v Neutralizing to risky features\n",
      "|                                   |      mean |   sharpe |\n",
      "|:----------------------------------|----------:|---------:|\n",
      "| preds_blitter_neutral_riskiest_50 | 0.0228259 |  1.05479 |\n"
     ]
    }
   ],
   "source": [
    "model_name = f\"blitter\"\n",
    "model = create_lgbm_regressor(model_name)\n",
    "save_prediction(model, model_name)"
   ]
  },
  {
   "cell_type": "code",
   "execution_count": 10,
   "metadata": {},
   "outputs": [
    {
     "name": "stdout",
     "output_type": "stream",
     "text": [
      "No nans in the features this week!\n",
      "\\ Predicting on latest data"
     ]
    },
    {
     "name": "stderr",
     "output_type": "stream",
     "text": [
      "C:\\Users\\marc\\.conda\\envs\\numerai\\lib\\site-packages\\xgboost\\data.py:112: UserWarning: Use subset (sliced data) of np.ndarray is not recommended because it will generate extra copies and increase memory consumption\n",
      "  warnings.warn(\n"
     ]
    },
    {
     "name": "stdout",
     "output_type": "stream",
     "text": [
      "v Predicting on latest data\n",
      "v Neutralizing to risky features\n",
      "|                                    |      mean |   sharpe |\n",
      "|:-----------------------------------|----------:|---------:|\n",
      "| preds_blitter1_neutral_riskiest_50 | 0.0241834 |  1.04763 |\n"
     ]
    }
   ],
   "source": [
    "model_name = \"blitter1\" #f\"xgboost_bare\"\n",
    "model = create_xgb_regressor(model_name)\n",
    "save_prediction(model, model_name)"
   ]
  },
  {
   "cell_type": "code",
   "execution_count": 11,
   "metadata": {},
   "outputs": [
    {
     "name": "stdout",
     "output_type": "stream",
     "text": [
      "|                                    |      mean |   sharpe |\n",
      "|:-----------------------------------|----------:|---------:|\n",
      "| preds_BLITTER2_neutral_riskiest_50 | 0.0239164 |  1.06938 |\n"
     ]
    }
   ],
   "source": [
    "#Ensemble Lgbm + XGBoost ja neutralitzzades\n",
    "model_name = \"BLITTER2\"\n",
    "\n",
    "validation_data.loc[:, f\"preds_{model_name}\"] = validation_data[\"preds_blitter_neutral_riskiest_50\"] * 0.5 + validation_data[\"preds_blitter1_neutral_riskiest_50\"] * 0.5\n",
    "tournament_data.loc[:, f\"preds_{model_name}\"] = tournament_data[\"preds_blitter_neutral_riskiest_50\"] * 0.5 + tournament_data[\"preds_blitter1_neutral_riskiest_50\"] * 0.5\n",
    "\n",
    "model_to_submit = f\"preds_{model_name}_neutral_riskiest_50\"\n",
    "\n",
    "validation_data[model_to_submit] = validation_data[f\"preds_{model_name}\"]\n",
    "tournament_data[model_to_submit] = tournament_data[f\"preds_{model_name}\"]\n",
    "\n",
    "\n",
    "# rename best model to prediction and rank from 0 to 1 to meet diagnostic/submission file requirements\n",
    "validation_data[\"prediction\"] = validation_data[model_to_submit].rank(pct=True)\n",
    "tournament_data[\"prediction\"] = tournament_data[model_to_submit].rank(pct=True)\n",
    "\n",
    "validation_data[\"prediction\"].to_csv(f\"validation_predictions_{current_round}_{model_to_submit}.csv\")\n",
    "tournament_data[\"prediction\"].to_csv(f\"tournament_predictions_{current_round}_{model_to_submit}.csv\")\n",
    "\n",
    "validation_stats = validation_metrics(validation_data, [model_to_submit], example_col=EXAMPLE_PREDS_COL, fast_mode=True)\n",
    "print(validation_stats[[\"mean\", \"sharpe\"]].to_markdown())\n"
   ]
  },
  {
   "cell_type": "code",
   "execution_count": 12,
   "metadata": {},
   "outputs": [
    {
     "name": "stdout",
     "output_type": "stream",
     "text": [
      "|                |      mean |   sharpe |\n",
      "|:---------------|----------:|---------:|\n",
      "| preds_BLITTER3 | 0.0236422 |  1.06787 |\n"
     ]
    }
   ],
   "source": [
    "#Ensemble Lgbm + XGBoost ensemble after rank\n",
    "model_name = \"BLITTER3\"\n",
    "\n",
    "#ensemble on ranks\n",
    "validation_data.loc[:, f\"preds_{model_name}\"] = validation_data[\"preds_blitter_neutral_riskiest_50\"].rank(pct=True) + validation_data[\"preds_blitter1_neutral_riskiest_50\"].rank(pct=True) / 2\n",
    "tournament_data.loc[:, f\"preds_{model_name}\"] = tournament_data[\"preds_blitter_neutral_riskiest_50\"].rank(pct=True) + tournament_data[\"preds_blitter1_neutral_riskiest_50\"].rank(pct=True) / 2\n",
    "\n",
    "model_to_submit = f\"preds_{model_name}\"\n",
    "\n",
    "#rank again to fix decimals coming from the /2\n",
    "validation_data[\"prediction\"] = validation_data[model_to_submit].rank(pct=True)\n",
    "tournament_data[\"prediction\"] = tournament_data[model_to_submit].rank(pct=True)\n",
    "\n",
    "\n",
    "validation_data[\"prediction\"].to_csv(f\"validation_predictions_{current_round}_{model_to_submit}.csv\")\n",
    "tournament_data[\"prediction\"].to_csv(f\"tournament_predictions_{current_round}_{model_to_submit}.csv\")\n",
    "\n",
    "validation_stats = validation_metrics(validation_data, [model_to_submit], example_col=EXAMPLE_PREDS_COL, fast_mode=True)\n",
    "print(validation_stats[[\"mean\", \"sharpe\"]].to_markdown())"
   ]
  },
  {
   "cell_type": "code",
   "execution_count": 13,
   "metadata": {},
   "outputs": [
    {
     "name": "stdout",
     "output_type": "stream",
     "text": [
      "No nans in the features this week!\n",
      "\\"
     ]
    },
    {
     "name": "stderr",
     "output_type": "stream",
     "text": [
      "C:\\Users\\marc\\.conda\\envs\\numerai\\lib\\site-packages\\xgboost\\data.py:112: UserWarning: Use subset (sliced data) of np.ndarray is not recommended because it will generate extra copies and increase memory consumption\n",
      "  warnings.warn(\n"
     ]
    },
    {
     "name": "stdout",
     "output_type": "stream",
     "text": [
      "v Predicting on latest data\n",
      "v Neutralizing to risky features\n",
      "|                                    |      mean |   sharpe |\n",
      "|:-----------------------------------|----------:|---------:|\n",
      "| preds_BLITTER4_neutral_riskiest_50 | 0.0217391 | 0.864442 |\n"
     ]
    }
   ],
   "source": [
    "model_name = f\"BLITTER4\"\n",
    "model = create_xgb_ranker(model_name)\n",
    "save_prediction(model, model_name, is_xgbRanker= True)"
   ]
  },
  {
   "cell_type": "code",
   "execution_count": 14,
   "metadata": {},
   "outputs": [
    {
     "data": {
      "text/plain": [
       "<AxesSubplot:>"
      ]
     },
     "execution_count": 14,
     "metadata": {},
     "output_type": "execute_result"
    },
    {
     "data": {
      "image/png": "[encoded data removed]",
      "text/plain": [
       "<Figure size 432x288 with 1 Axes>"
      ]
     },
     "metadata": {
      "needs_background": "light"
     },
     "output_type": "display_data"
    },
    {
     "name": "stdout",
     "output_type": "stream",
     "text": []
    }
   ],
   "source": [
    "validation_data.loc[:, f\"preds_{model_name}\"].hist()"
   ]
  },
  {
   "cell_type": "code",
   "execution_count": 15,
   "metadata": {},
   "outputs": [
    {
     "name": "stdout",
     "output_type": "stream",
     "text": [
      "No nans in the features this week!\n",
      "\\"
     ]
    },
    {
     "name": "stderr",
     "output_type": "stream",
     "text": [
      "C:\\Users\\marc\\.conda\\envs\\numerai\\lib\\site-packages\\xgboost\\data.py:112: UserWarning: Use subset (sliced data) of np.ndarray is not recommended because it will generate extra copies and increase memory consumption\n",
      "  warnings.warn(\n"
     ]
    },
    {
     "name": "stdout",
     "output_type": "stream",
     "text": [
      "v Predicting on latest data\n",
      "v Neutralizing to risky features\n",
      "|                                    |      mean |   sharpe |\n",
      "|:-----------------------------------|----------:|---------:|\n",
      "| preds_BLITTER4_neutral_riskiest_50 | 0.0217391 | 0.864442 |\n"
     ]
    }
   ],
   "source": [
    "model_name = f\"BLITTER4\"\n",
    "model = create_xgb_ranker(model_name)\n",
    "save_prediction(model, model_name, is_xgbRanker= False)"
   ]
  },
  {
   "cell_type": "code",
   "execution_count": 16,
   "metadata": {},
   "outputs": [
    {
     "name": "stdout",
     "output_type": "stream",
     "text": [
      "No nans in the features this week!\n",
      "v Predicting on latest data\n",
      "v Neutralizing to risky features\n",
      "|                                    |      mean |   sharpe |\n",
      "|:-----------------------------------|----------:|---------:|\n",
      "| preds_blitter5_neutral_riskiest_50 | 0.0233502 |  0.97543 |\n"
     ]
    }
   ],
   "source": [
    "model_name = f\"blitter5\"\n",
    "model = create_catboost_regressor(model_name)\n",
    "save_prediction(model, model_name)"
   ]
  },
  {
   "cell_type": "code",
   "execution_count": 17,
   "metadata": {},
   "outputs": [
    {
     "name": "stdout",
     "output_type": "stream",
     "text": [
      "predicting blitter6\n",
      "No nans in the features this week!\n"
     ]
    }
   ],
   "source": [
    "model_name = f\"blitter6\"\n",
    "loss_function = \"QueryRMSE\"\n",
    "\n",
    "model = create_catboost_ranker(model_name, loss_function)"
   ]
  },
  {
   "cell_type": "code",
   "execution_count": 18,
   "metadata": {},
   "outputs": [
    {
     "name": "stdout",
     "output_type": "stream",
     "text": [
      "v Predicting on latest data\n",
      "v Neutralizing to risky features\n",
      "|                                    |      mean |   sharpe |\n",
      "|:-----------------------------------|----------:|---------:|\n",
      "| preds_blitter6_neutral_riskiest_50 | 0.0173495 | 0.855438 |\n"
     ]
    }
   ],
   "source": [
    "save_prediction(model, model_name, use_pool =True)"
   ]
  },
  {
   "cell_type": "code",
   "execution_count": 19,
   "metadata": {},
   "outputs": [
    {
     "name": "stdout",
     "output_type": "stream",
     "text": [
      "predicting blitter7\n",
      "No nans in the features this week!\n"
     ]
    }
   ],
   "source": [
    "model_name = f\"blitter7\"\n",
    "loss_function = \"PairLogit:max_pairs=100000\"\n",
    "\n",
    "model = create_catboost_ranker(model_name, loss_function)\n"
   ]
  },
  {
   "cell_type": "code",
   "execution_count": 20,
   "metadata": {},
   "outputs": [
    {
     "name": "stdout",
     "output_type": "stream",
     "text": [
      "v Predicting on latest data\n",
      "v Neutralizing to risky features\n",
      "|                                    |      mean |   sharpe |\n",
      "|:-----------------------------------|----------:|---------:|\n",
      "| preds_blitter7_neutral_riskiest_50 | 0.0147554 | 0.726439 |\n"
     ]
    }
   ],
   "source": [
    "save_prediction(model, model_name, use_pool =True)"
   ]
  },
  {
   "cell_type": "markdown",
   "metadata": {},
   "source": [
    "# TODO GroupKfold for non overlapping eras\n",
    "# optuna optimize\n",
    "\n",
    "# stacking"
   ]
  },
  {
   "cell_type": "markdown",
   "metadata": {},
   "source": [
    "LTR over slightly neutralized target"
   ]
  }
 ],
 "metadata": {
  "interpreter": {
   "hash": "12eb2deb491f06237ee9901a58432554b7037b679c06f592229f3038c962b482"
  },
  "kernelspec": {
   "display_name": "Python 3.8.8 64-bit ('numerai': conda)",
   "name": "python3"
  },
  "language_info": {
   "codemirror_mode": {
    "name": "ipython",
    "version": 3
   },
   "file_extension": ".py",
   "mimetype": "text/x-python",
   "name": "python",
   "nbconvert_exporter": "python",
   "pygments_lexer": "ipython3",
   "version": "3.8.8"
  }
 },
 "nbformat": 4,
 "nbformat_minor": 2
}
