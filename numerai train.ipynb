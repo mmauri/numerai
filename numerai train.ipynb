{
 "cells": [
  {
   "cell_type": "code",
   "execution_count": 1,
   "metadata": {},
   "outputs": [
    {
     "name": "stdout",
     "output_type": "stream",
     "text": [
      "289\n"
     ]
    },
    {
     "name": "stderr",
     "output_type": "stream",
     "text": [
      "2021-11-06 19:46:38,803 INFO numerapi.utils: target file already exists\n",
      "2021-11-06 19:46:38,804 INFO numerapi.utils: download complete\n",
      "2021-11-06 19:46:40,255 INFO numerapi.utils: starting download\n",
      "numerai_tournament_data_289_int8.parquet:  99%|█████████▉| 576M/582M [00:11<00:00, 54.9MB/s]2021-11-06 19:46:52,773 INFO numerapi.utils: target file already exists\n",
      "2021-11-06 19:46:52,774 INFO numerapi.utils: download complete\n",
      "2021-11-06 19:46:53,659 INFO numerapi.utils: starting download\n",
      "\n",
      "example_predictions_289.parquet:   0%|          | 0.00/33.5M [00:00<?, ?B/s]\n",
      "example_predictions_289.parquet:   0%|          | 16.4k/33.5M [00:00<04:45, 117kB/s]\n",
      "example_predictions_289.parquet:   0%|          | 51.2k/33.5M [00:00<02:53, 192kB/s]\n",
      "example_predictions_289.parquet:   0%|          | 138k/33.5M [00:00<01:26, 384kB/s] \n",
      "example_predictions_289.parquet:   1%|          | 312k/33.5M [00:00<00:46, 715kB/s]\n",
      "example_predictions_289.parquet:   2%|▏         | 573k/33.5M [00:00<00:29, 1.12MB/s]\n",
      "example_predictions_289.parquet:   4%|▎         | 1.18M/33.5M [00:00<00:14, 2.19MB/s]\n",
      "example_predictions_289.parquet:   7%|▋         | 2.38M/33.5M [00:00<00:07, 4.22MB/s]\n",
      "example_predictions_289.parquet:  14%|█▍        | 4.80M/33.5M [00:01<00:03, 8.28MB/s]\n",
      "example_predictions_289.parquet:  29%|██▉       | 9.63M/33.5M [00:01<00:01, 16.3MB/s]\n",
      "example_predictions_289.parquet:  50%|█████     | 16.8M/33.5M [00:01<00:00, 26.6MB/s]\n",
      "example_predictions_289.parquet:  75%|███████▍  | 25.0M/33.5M [00:01<00:00, 39.5MB/s]\n",
      "example_predictions_289.parquet:  88%|████████▊ | 29.4M/33.5M [00:01<00:00, 37.3MB/s]2021-11-06 19:46:56,250 INFO numerapi.utils: target file already exists\n",
      "2021-11-06 19:46:56,252 INFO numerapi.utils: download complete\n"
     ]
    },
    {
     "name": "stdout",
     "output_type": "stream",
     "text": [
      "\\ Reading parquet data"
     ]
    },
    {
     "name": "stderr",
     "output_type": "stream",
     "text": [
      "example_predictions_289.parquet: 33.5MB [00:02, 12.6MB/s]                            \n"
     ]
    },
    {
     "name": "stdout",
     "output_type": "stream",
     "text": [
      "| Reading parquet data"
     ]
    },
    {
     "name": "stderr",
     "output_type": "stream",
     "text": [
      "numerai_tournament_data_289_int8.parquet: 582MB [00:16, 35.8MB/s]                           \n"
     ]
    },
    {
     "name": "stdout",
     "output_type": "stream",
     "text": [
      "v Reading parquet data\n"
     ]
    },
    {
     "data": {
      "text/plain": [
       "0"
      ]
     },
     "execution_count": 1,
     "metadata": {},
     "output_type": "execute_result"
    },
    {
     "name": "stdout",
     "output_type": "stream",
     "text": []
    }
   ],
   "source": [
    "import pandas as pd\n",
    "from lightgbm import LGBMRegressor\n",
    "import gc\n",
    "from numerapi import NumerAPI\n",
    "from halo import Halo\n",
    "from utils import save_model, load_model, neutralize, get_biggest_change_features, validation_metrics, download_data\n",
    "\n",
    "\n",
    "\n",
    "napi = NumerAPI()\n",
    "spinner = Halo(text='', spinner='dots')\n",
    "\n",
    "current_round = napi.get_current_round(tournament=8)  # tournament 8 is the primary Numerai Tournament\n",
    "print(current_round)\n",
    "\n",
    "# read in all of the new datas\n",
    "# tournament data and example predictions change every week so we specify the round in their names\n",
    "# training and validation data only change periodically, so no need to download them over again every single week\n",
    "napi.download_dataset(\"numerai_training_data_int8.parquet\", \"numerai_training_data_int8.parquet\")\n",
    "napi.download_dataset(\"numerai_tournament_data_int8.parquet\", f\"numerai_tournament_data_{current_round}_int8.parquet\")\n",
    "napi.download_dataset(\"numerai_validation_data_int8.parquet\", f\"numerai_validation_data_int8.parquet\")\n",
    "napi.download_dataset(\"example_predictions.parquet\", f\"example_predictions_{current_round}.parquet\")\n",
    "napi.download_dataset(\"example_validation_predictions.parquet\", \"example_validation_predictions.parquet\")\n",
    "\n",
    "spinner.start('Reading parquet data')\n",
    "training_data = pd.read_parquet('numerai_training_data_int8.parquet')\n",
    "tournament_data = pd.read_parquet(f'numerai_tournament_data_{current_round}_int8.parquet')\n",
    "validation_data = pd.read_parquet('numerai_validation_data_int8.parquet')\n",
    "example_preds = pd.read_parquet(f'example_predictions_{current_round}.parquet')\n",
    "validation_preds = pd.read_parquet('example_validation_predictions.parquet')\n",
    "spinner.succeed()\n",
    "\n",
    "EXAMPLE_PREDS_COL = \"example_preds\"\n",
    "validation_data[EXAMPLE_PREDS_COL] = validation_preds[\"prediction\"]\n",
    "\n",
    "TARGET_COL = \"target\"\n",
    "ERA_COL = \"era\"\n",
    "\n",
    "# all feature columns start with the prefix \"feature_\"\n",
    "#feature_cols = [c for c in training_data if c.startswith(\"feature_\")]\n",
    "\n",
    "gc.collect()"
   ]
  },
  {
   "cell_type": "code",
   "execution_count": 2,
   "metadata": {},
   "outputs": [
    {
     "data": {
      "text/plain": [
       "38"
      ]
     },
     "execution_count": 2,
     "metadata": {},
     "output_type": "execute_result"
    },
    {
     "name": "stdout",
     "output_type": "stream",
     "text": []
    }
   ],
   "source": [
    "f=['feature_haziest_lifelike_horseback', 'feature_glare_factional_assessment', 'feature_exorbitant_myeloid_crinkle', 'feature_travelled_semipermeable_perruquier', 'feature_branched_dilatory_sunbelt', 'feature_moralistic_heartier_typhoid', 'feature_introvert_symphysial_assegai', 'feature_gullable_sanguine_incongruity', 'feature_agile_unrespited_gaucho', 'feature_canalicular_peeling_lilienthal', 'feature_unvaried_social_bangkok', 'feature_lofty_acceptable_challenge', 'feature_grandmotherly_circumnavigable_homonymity', 'feature_undivorced_unsatisfying_praetorium', 'feature_unaired_operose_lactoprotein']\n",
    "f+=['feature_travelled_semipermeable_perruquier', 'feature_planned_superimposed_bend', 'feature_moralistic_heartier_typhoid', 'feature_crowning_frustrate_kampala', 'feature_unaired_operose_lactoprotein', 'feature_flintier_enslaved_borsch', 'feature_cambial_bigoted_bacterioid', 'feature_jerkwater_eustatic_electrocardiograph', 'feature_unvaried_social_bangkok', 'feature_communicatory_unrecommended_velure', 'feature_lofty_acceptable_challenge', 'feature_grandmotherly_circumnavigable_homonymity', 'feature_antichristian_slangiest_idyllist', 'feature_assenting_darn_arthropod', 'feature_haziest_lifelike_horseback', 'feature_exorbitant_myeloid_crinkle', 'feature_beery_somatologic_elimination', 'feature_silver_handworked_scauper', 'feature_canalicular_peeling_lilienthal', 'feature_undivorced_unsatisfying_praetorium']\n",
    "f+=['feature_glare_factional_assessment', 'feature_travelled_semipermeable_perruquier', 'feature_moralistic_heartier_typhoid', 'feature_stylistic_honduran_comprador', 'feature_crowning_frustrate_kampala', 'feature_unaired_operose_lactoprotein', 'feature_flintier_enslaved_borsch', 'feature_unvaried_social_bangkok', 'feature_apomictical_motorized_vaporisation', 'feature_lofty_acceptable_challenge', 'feature_antichristian_slangiest_idyllist', 'feature_store_apteral_isocheim', 'feature_unforbidden_highbrow_kafir', 'feature_buxom_curtained_sienna', 'feature_haziest_lifelike_horseback', 'feature_exorbitant_myeloid_crinkle', 'feature_silver_handworked_scauper', 'feature_canalicular_peeling_lilienthal', 'feature_introvert_symphysial_assegai', 'feature_univalve_abdicant_distrail', 'feature_undivorced_unsatisfying_praetorium']\n",
    "f+=['feature_glare_factional_assessment', 'feature_unsealed_suffixal_babar', 'feature_travelled_semipermeable_perruquier', 'feature_moralistic_heartier_typhoid', 'feature_twisty_adequate_minutia', 'feature_flintier_enslaved_borsch', 'feature_slack_calefacient_tableau', 'feature_bhutan_imagism_dolerite', 'feature_unvaried_social_bangkok', 'feature_communicatory_unrecommended_velure', 'feature_lofty_acceptable_challenge', 'feature_grandmotherly_circumnavigable_homonymity', 'feature_chuffier_analectic_conchiolin', 'feature_antichristian_slangiest_idyllist', 'feature_unwonted_trusted_fixative', 'feature_haziest_lifelike_horseback', 'feature_exorbitant_myeloid_crinkle', 'feature_beery_somatologic_elimination', 'feature_winsome_irreproachable_milkfish', 'feature_gullable_sanguine_incongruity', 'feature_silver_handworked_scauper', 'feature_canalicular_peeling_lilienthal', 'feature_introvert_symphysial_assegai', 'feature_undivorced_unsatisfying_praetorium']\n",
    "\n",
    "feature_cols = list(set(f))\n",
    "len(feature_cols)"
   ]
  },
  {
   "cell_type": "code",
   "execution_count": 111,
   "metadata": {},
   "outputs": [
    {
     "name": "stdout",
     "output_type": "stream",
     "text": []
    }
   ],
   "source": [
    "# The models should be scored based on the rank-correlation (spearman) with the target\n",
    "def numerai_score(y_true, y_pred):\n",
    "    rank_pred = y_pred.groupby(eras).apply(lambda x: x.rank(pct=True, method=\"first\"))\n",
    "    return np.corrcoef(y_true, rank_pred)[0,1]\n",
    "\n",
    "# It can also be convenient while working to evaluate based on the regular (pearson) correlation\n",
    "def correlation_score(y_true, y_pred):\n",
    "    return np.corrcoef(y_true, y_pred)[0,1]\n",
    "\n",
    "# The models should be scored based on the rank-correlation (spearman) with the target\n",
    "def spearman_score(y_true, y_pred):\n",
    "    rank_pred = y_pred.rank(pct=True, method=\"first\")\n",
    "    return np.corrcoef(y_true, rank_pred)[0,1]"
   ]
  },
  {
   "cell_type": "code",
   "execution_count": 3,
   "metadata": {},
   "outputs": [
    {
     "name": "stdout",
     "output_type": "stream",
     "text": []
    }
   ],
   "source": [
    "def create_lgbm_regressor(model_name:str):\n",
    "    model = load_model(model_name)\n",
    "    if not model:\n",
    "        print(f\"model not found, training new one\")\n",
    "        params = {\"n_estimators\": 2000,\n",
    "                \"learning_rate\": 0.01,\n",
    "                \"max_depth\": 5,\n",
    "                \"num_leaves\": 2 ** 5,\n",
    "                \"colsample_bytree\": 0.1}\n",
    "\n",
    "        model = LGBMRegressor(**params)\n",
    "\n",
    "        # train on all of train, predict on val, predict on tournament, save the model so we don't have to train next time\n",
    "        spinner.start('Training model')\n",
    "        model.fit(training_data.loc[:, feature_cols], training_data[TARGET_COL])\n",
    "        print(f\"saving new model: {model_name}\")\n",
    "        save_model(model, model_name)\n",
    "        spinner.succeed()\n",
    "\n",
    "    # check for nans and fill nans\n",
    "    if tournament_data.loc[tournament_data[\"data_type\"] == \"live\", feature_cols].isna().sum().sum():\n",
    "        cols_w_nan = tournament_data.loc[tournament_data[\"data_type\"] == \"live\", feature_cols].isna().sum()\n",
    "        total_rows = tournament_data[tournament_data[\"data_type\"] == \"live\"]\n",
    "        print(f\"Number of nans per column this week: {cols_w_nan[cols_w_nan > 0]}\")\n",
    "        print(f\"out of {total_rows} total rows\")\n",
    "        print(f\"filling nans with 0.5\")\n",
    "        tournament_data.loc[:, feature_cols].fillna(0.5, inplace=True)\n",
    "    else:\n",
    "        print(\"No nans in the features this week!\")\n",
    "\n",
    "    return model\n"
   ]
  },
  {
   "cell_type": "code",
   "execution_count": 4,
   "metadata": {},
   "outputs": [
    {
     "name": "stdout",
     "output_type": "stream",
     "text": []
    }
   ],
   "source": [
    "def save_prediction(model, model_name, neutralize_proportion = 0.8, is_xgbRanker = False, use_pool = False):\n",
    "    spinner.start('Predicting on latest data')\n",
    "    # double check the feature that the model expects vs what is available\n",
    "    # this prevents our pipeline from failing if Numerai adds more data and we don't have time to retrain!\n",
    "\n",
    "\n",
    "    try:\n",
    "        model_expected_features = model.booster_.feature_name()\n",
    "    except:\n",
    "        try:\n",
    "            model_expected_features = model.get_booster().feature_names\n",
    "        except:\n",
    "            model_expected_features = model.feature_names_\n",
    "        \n",
    "    if set(model_expected_features) != set(feature_cols):\n",
    "        print(f\"New features are available! Might want to retrain model {model_name}.\")\n",
    "\n",
    "    if not use_pool:\n",
    "        # if is_xgbRanker:\n",
    "            \n",
    "        #     for era in validation_data.era.unique():\n",
    "        #         print(f\"predicting valid era:{era}\")\n",
    "        #         validation_data.loc[validation_data.era == era, f\"preds_{model_name}\"] = \\\n",
    "        #             model.predict(validation_data.loc[validation_data.era == era, model_expected_features])\n",
    "\n",
    "        #     for era in tournament_data.era.unique():\n",
    "        #         print(f\"predicting tournament era:{era}\")\n",
    "        #         tournament_data.loc[tournament_data.era == era, f\"preds_{model_name}\"] = \\\n",
    "        #             model.predict(tournament_data.loc[tournament_data.era == era, model_expected_features])\n",
    "        # else:\n",
    "        validation_data.loc[:, f\"preds_{model_name}\"] = model.predict(validation_data.loc[:, model_expected_features])\n",
    "        tournament_data.loc[:, f\"preds_{model_name}\"] = model.predict(tournament_data.loc[:, model_expected_features])\n",
    "    else:\n",
    "        #catboost ranker is not compayible with sklearn\n",
    "\n",
    "        test_pool = Pool(\n",
    "            data=validation_data.loc[:, feature_cols],\n",
    "            label=validation_data[TARGET_COL],\n",
    "            group_id=validation_data.era\n",
    "        )\n",
    "        validation_data.loc[:, f\"preds_{model_name}\"] = model.predict(test_pool)\n",
    "\n",
    "        tournament_pool = Pool (\n",
    "            data = tournament_data.loc[:, model_expected_features],\n",
    "            group_id = tournament_data.era\n",
    "        )\n",
    "\n",
    "        tournament_data.loc[:, f\"preds_{model_name}\"] = model.predict(tournament_pool)\n",
    "\n",
    "    spinner.succeed()\n",
    "\n",
    "    spinner.start('Neutralizing to risky features')\n",
    "    # getting the per era correlation of each feature vs the target\n",
    "    all_feature_corrs = training_data.groupby(ERA_COL).apply(lambda d: d[feature_cols].corrwith(d[TARGET_COL]))\n",
    "\n",
    "    # find the riskiest features by comparing their correlation vs the target in half 1 and half 2 of training data\n",
    "    riskiest_features = get_biggest_change_features(all_feature_corrs, 50)\n",
    "\n",
    "    # neutralize our predictions to the riskiest features\n",
    "    validation_data[f\"preds_{model_name}_neutral_riskiest_50\"] = neutralize(df=validation_data,\n",
    "                                                                            columns=[f\"preds_{model_name}\"],\n",
    "                                                                            neutralizers=riskiest_features,\n",
    "                                                                            proportion=neutralize_proportion,\n",
    "                                                                            normalize=True,\n",
    "                                                                            era_col=ERA_COL)\n",
    "\n",
    "    tournament_data[f\"preds_{model_name}_neutral_riskiest_50\"] = neutralize(df=tournament_data,\n",
    "                                                                            columns=[f\"preds_{model_name}\"],\n",
    "                                                                            neutralizers=riskiest_features,\n",
    "                                                                            proportion=neutralize_proportion,\n",
    "                                                                            normalize=True,\n",
    "                                                                            era_col=ERA_COL)\n",
    "    spinner.succeed()\n",
    "\n",
    "    model_to_submit = f\"preds_{model_name}_neutral_riskiest_50\"\n",
    "\n",
    "    # rename best model to prediction and rank from 0 to 1 to meet diagnostic/submission file requirements\n",
    "    validation_data[\"prediction\"] = validation_data[model_to_submit].rank(pct=True)\n",
    "    tournament_data[\"prediction\"] = tournament_data[model_to_submit].rank(pct=True)\n",
    "    validation_data[\"prediction\"].to_csv(f\"validation_predictions_{current_round}_{model_to_submit}.csv\")\n",
    "    tournament_data[\"prediction\"].to_csv(f\"tournament_predictions_{current_round}_{model_to_submit}.csv\")\n",
    "\n",
    "    # get some stats about each of our models to compare...\n",
    "    # fast_mode=True so that we skip some of the stats that are slower to calculate\n",
    "    validation_stats = validation_metrics(validation_data, [model_to_submit], example_col=EXAMPLE_PREDS_COL, fast_mode=True)\n",
    "    print(validation_stats[[\"mean\", \"sharpe\"]].to_markdown())"
   ]
  },
  {
   "cell_type": "code",
   "execution_count": 5,
   "metadata": {},
   "outputs": [
    {
     "name": "stdout",
     "output_type": "stream",
     "text": []
    }
   ],
   "source": [
    "#Blitter4 XGBRank\n",
    "from xgboost import XGBRanker\n",
    "from collections import Counter\n",
    "\n",
    "\n",
    "def create_xgb_ranker(model_name:str):\n",
    "    model = load_model(model_name)\n",
    "    if not model:\n",
    "        print(f\"model not found, training new one\")\n",
    "\n",
    "                        \n",
    "        model = XGBRanker(max_depth=5, learning_rate=0.01, n_estimators=2000, n_jobs=-1, colsample_bytree=0.1)\n",
    "        # cdf = training_data.groupby('era').agg(['count'])\n",
    "        # group = cdf[cdf.columns[0]].values\n",
    "        # del cdf\n",
    "        group = Counter(training_data.era).values()\n",
    "\n",
    "        # train on all of train, predict on val, predict on tournament, save the model so we don't have to train next time\n",
    "        spinner.start('Training model')\n",
    "        model.fit(training_data.loc[:, feature_cols], training_data[TARGET_COL], group=group)\n",
    "        print(f\"saving new model: {model_name}\")\n",
    "        save_model(model, model_name)\n",
    "        spinner.succeed()\n",
    "\n",
    "    # check for nans and fill nans\n",
    "    if tournament_data.loc[tournament_data[\"data_type\"] == \"live\", feature_cols].isna().sum().sum():\n",
    "        cols_w_nan = tournament_data.loc[tournament_data[\"data_type\"] == \"live\", feature_cols].isna().sum()\n",
    "        total_rows = tournament_data[tournament_data[\"data_type\"] == \"live\"]\n",
    "        print(f\"Number of nans per column this week: {cols_w_nan[cols_w_nan > 0]}\")\n",
    "        print(f\"out of {total_rows} total rows\")\n",
    "        print(f\"filling nans with 0.5\")\n",
    "        tournament_data.loc[:, feature_cols].fillna(0.5, inplace=True)\n",
    "    else:\n",
    "        print(\"No nans in the features this week!\")\n",
    "\n",
    "    return model"
   ]
  },
  {
   "cell_type": "code",
   "execution_count": 6,
   "metadata": {},
   "outputs": [
    {
     "name": "stdout",
     "output_type": "stream",
     "text": []
    }
   ],
   "source": [
    "from xgboost import XGBRegressor\n",
    "\n",
    "def create_xgb_regressor(model_name:str):\n",
    "    model = load_model(model_name)\n",
    "    if not model:\n",
    "        print(f\"model not found, training new one\")\n",
    "        params = {\"n_estimators\": 2000,\n",
    "                \"learning_rate\": 0.01,\n",
    "                \"max_depth\": 5,\n",
    "                \"num_leaves\": 2 ** 5,\n",
    "                \"colsample_bytree\": 0.1}\n",
    "\n",
    "        model = XGBRegressor(max_depth=5, learning_rate=0.01, \\\n",
    "                        n_estimators=2000, colsample_bytree=0.1) #provar regularitzacions\n",
    "\n",
    "        # train on all of train, predict on val, predict on tournament, save the model so we don't have to train next time\n",
    "        spinner.start('Training model')\n",
    "        model.fit(training_data.loc[:, feature_cols], training_data[TARGET_COL])\n",
    "        print(f\"saving new model: {model_name}\")\n",
    "        save_model(model, model_name)\n",
    "        spinner.succeed()\n",
    "\n",
    "    # check for nans and fill nans\n",
    "    if tournament_data.loc[tournament_data[\"data_type\"] == \"live\", feature_cols].isna().sum().sum():\n",
    "        cols_w_nan = tournament_data.loc[tournament_data[\"data_type\"] == \"live\", feature_cols].isna().sum()\n",
    "        total_rows = tournament_data[tournament_data[\"data_type\"] == \"live\"]\n",
    "        print(f\"Number of nans per column this week: {cols_w_nan[cols_w_nan > 0]}\")\n",
    "        print(f\"out of {total_rows} total rows\")\n",
    "        print(f\"filling nans with 0.5\")\n",
    "        tournament_data.loc[:, feature_cols].fillna(0.5, inplace=True)\n",
    "    else:\n",
    "        print(\"No nans in the features this week!\")\n",
    "\n",
    "    return model"
   ]
  },
  {
   "cell_type": "code",
   "execution_count": 7,
   "metadata": {},
   "outputs": [
    {
     "name": "stdout",
     "output_type": "stream",
     "text": []
    }
   ],
   "source": [
    "#BLITTER5 - Catboost regressor\n",
    "from catboost import CatBoostRegressor\n",
    "\n",
    "def create_catboost_regressor(model_name:str):\n",
    "\n",
    "    model = load_model(model_name)\n",
    "    if not model:\n",
    "        print(f\"model not found, training new one\")\n",
    "\n",
    "        model = CatBoostRegressor(max_depth=5, learning_rate=0.01, \\\n",
    "                        n_estimators=2000, rsm=0.1) #provar regularitzacions\n",
    "\n",
    "        # train on all of train, predict on val, predict on tournament, save the model so we don't have to train next time\n",
    "        spinner.start('Training model')\n",
    "        model.fit(training_data.loc[:, feature_cols], training_data[TARGET_COL])\n",
    "        print(f\"saving new model: {model_name}\")\n",
    "        save_model(model, model_name)\n",
    "        spinner.succeed()\n",
    "\n",
    "    # check for nans and fill nans\n",
    "    if tournament_data.loc[tournament_data[\"data_type\"] == \"live\", feature_cols].isna().sum().sum():\n",
    "        cols_w_nan = tournament_data.loc[tournament_data[\"data_type\"] == \"live\", feature_cols].isna().sum()\n",
    "        total_rows = tournament_data[tournament_data[\"data_type\"] == \"live\"]\n",
    "        print(f\"Number of nans per column this week: {cols_w_nan[cols_w_nan > 0]}\")\n",
    "        print(f\"out of {total_rows} total rows\")\n",
    "        print(f\"filling nans with 0.5\")\n",
    "        tournament_data.loc[:, feature_cols].fillna(0.5, inplace=True)\n",
    "    else:\n",
    "        print(\"No nans in the features this week!\")\n",
    "    return model"
   ]
  },
  {
   "cell_type": "code",
   "execution_count": 8,
   "metadata": {},
   "outputs": [
    {
     "name": "stdout",
     "output_type": "stream",
     "text": []
    }
   ],
   "source": [
    "from catboost import CatBoostRanker, Pool\n",
    "\n",
    "def create_catboost_ranker(model_name : str, loss_function : str, plot = True, verbose = False):\n",
    "    gc.collect()\n",
    "    print(f\"predicting {model_name}\")\n",
    "    model = load_model(model_name)\n",
    "    if not model:\n",
    "        print(f\"model not found, training new one\")\n",
    "        parameters = {\n",
    "            'iterations': 200,\n",
    "            'custom_metric': ['NDCG', 'PFound'],\n",
    "            'verbose': verbose,\n",
    "            'random_seed': 0,\n",
    "            'rsm' : 0.1,\n",
    "            'learning_rate' : 0.01,\n",
    "            'loss_function' : loss_function,\n",
    "            #'train_dir' : loss_function\n",
    "        }\n",
    "\n",
    "        train_pool = Pool(\n",
    "            data=training_data.loc[:, feature_cols],\n",
    "            label=training_data[TARGET_COL],\n",
    "            group_id=training_data.era\n",
    "        )\n",
    "\n",
    "        test_pool = Pool(\n",
    "            data=validation_data.loc[:, feature_cols],\n",
    "            label=validation_data[TARGET_COL],\n",
    "            group_id=validation_data.era\n",
    "        )\n",
    "\n",
    "        model = CatBoostRanker(**parameters)\n",
    "\n",
    "\n",
    "        # train on all of train, predict on val, predict on tournament, save the model so we don't have to train next time\n",
    "        #spinner.start('Training model')\n",
    "        model.fit(train_pool, eval_set=test_pool, early_stopping_rounds=10, plot=plot)\n",
    "\n",
    "        print(f\"saving new model: {model_name}\")\n",
    "        save_model(model, model_name)\n",
    "        #spinner.succeed()\n",
    "\n",
    "    # check for nans and fill nans\n",
    "    if tournament_data.loc[tournament_data[\"data_type\"] == \"live\", feature_cols].isna().sum().sum():\n",
    "        cols_w_nan = tournament_data.loc[tournament_data[\"data_type\"] == \"live\", feature_cols].isna().sum()\n",
    "        total_rows = tournament_data[tournament_data[\"data_type\"] == \"live\"]\n",
    "        print(f\"Number of nans per column this week: {cols_w_nan[cols_w_nan > 0]}\")\n",
    "        print(f\"out of {total_rows} total rows\")\n",
    "        print(f\"filling nans with 0.5\")\n",
    "        tournament_data.loc[:, feature_cols].fillna(0.5, inplace=True)\n",
    "    else:\n",
    "        print(\"No nans in the features this week!\")\n",
    "\n",
    "    return model"
   ]
  },
  {
   "cell_type": "code",
   "execution_count": 9,
   "metadata": {},
   "outputs": [
    {
     "name": "stdout",
     "output_type": "stream",
     "text": [
      "No nans in the features this week!\n",
      "v Predicting on latest data\n",
      "v Neutralizing to risky features\n",
      "|                                   |      mean |   sharpe |\n",
      "|:----------------------------------|----------:|---------:|\n",
      "| preds_blitter_neutral_riskiest_50 | 0.0228259 |  1.05479 |\n"
     ]
    }
   ],
   "source": [
    "model_name = f\"blitter\"\n",
    "model = create_lgbm_regressor(model_name)\n",
    "save_prediction(model, model_name)"
   ]
  },
  {
   "cell_type": "code",
   "execution_count": 10,
   "metadata": {},
   "outputs": [
    {
     "name": "stdout",
     "output_type": "stream",
     "text": [
      "No nans in the features this week!\n",
      "\\ Predicting on latest data"
     ]
    },
    {
     "name": "stderr",
     "output_type": "stream",
     "text": [
      "C:\\Users\\marc\\.conda\\envs\\numerai\\lib\\site-packages\\xgboost\\data.py:112: UserWarning: Use subset (sliced data) of np.ndarray is not recommended because it will generate extra copies and increase memory consumption\n",
      "  warnings.warn(\n"
     ]
    },
    {
     "name": "stdout",
     "output_type": "stream",
     "text": [
      "v Predicting on latest data\n",
      "v Neutralizing to risky features\n",
      "|                                    |      mean |   sharpe |\n",
      "|:-----------------------------------|----------:|---------:|\n",
      "| preds_blitter1_neutral_riskiest_50 | 0.0241834 |  1.04763 |\n"
     ]
    }
   ],
   "source": [
    "model_name = \"blitter1\" #f\"xgboost_bare\"\n",
    "model = create_xgb_regressor(model_name)\n",
    "save_prediction(model, model_name)"
   ]
  },
  {
   "cell_type": "code",
   "execution_count": 11,
   "metadata": {},
   "outputs": [
    {
     "name": "stdout",
     "output_type": "stream",
     "text": [
      "|                                    |      mean |   sharpe |\n",
      "|:-----------------------------------|----------:|---------:|\n",
      "| preds_BLITTER2_neutral_riskiest_50 | 0.0239164 |  1.06938 |\n"
     ]
    }
   ],
   "source": [
    "#Ensemble Lgbm + XGBoost ja neutralitzzades\n",
    "model_name = \"BLITTER2\"\n",
    "\n",
    "validation_data.loc[:, f\"preds_{model_name}\"] = validation_data[\"preds_blitter_neutral_riskiest_50\"] * 0.5 + validation_data[\"preds_blitter1_neutral_riskiest_50\"] * 0.5\n",
    "tournament_data.loc[:, f\"preds_{model_name}\"] = tournament_data[\"preds_blitter_neutral_riskiest_50\"] * 0.5 + tournament_data[\"preds_blitter1_neutral_riskiest_50\"] * 0.5\n",
    "\n",
    "model_to_submit = f\"preds_{model_name}_neutral_riskiest_50\"\n",
    "\n",
    "validation_data[model_to_submit] = validation_data[f\"preds_{model_name}\"]\n",
    "tournament_data[model_to_submit] = tournament_data[f\"preds_{model_name}\"]\n",
    "\n",
    "\n",
    "# rename best model to prediction and rank from 0 to 1 to meet diagnostic/submission file requirements\n",
    "validation_data[\"prediction\"] = validation_data[model_to_submit].rank(pct=True)\n",
    "tournament_data[\"prediction\"] = tournament_data[model_to_submit].rank(pct=True)\n",
    "\n",
    "validation_data[\"prediction\"].to_csv(f\"validation_predictions_{current_round}_{model_to_submit}.csv\")\n",
    "tournament_data[\"prediction\"].to_csv(f\"tournament_predictions_{current_round}_{model_to_submit}.csv\")\n",
    "\n",
    "validation_stats = validation_metrics(validation_data, [model_to_submit], example_col=EXAMPLE_PREDS_COL, fast_mode=True)\n",
    "print(validation_stats[[\"mean\", \"sharpe\"]].to_markdown())\n"
   ]
  },
  {
   "cell_type": "code",
   "execution_count": 12,
   "metadata": {},
   "outputs": [
    {
     "name": "stdout",
     "output_type": "stream",
     "text": [
      "|                |      mean |   sharpe |\n",
      "|:---------------|----------:|---------:|\n",
      "| preds_BLITTER3 | 0.0236422 |  1.06787 |\n"
     ]
    }
   ],
   "source": [
    "#Ensemble Lgbm + XGBoost ensemble after rank and xgboost half weight\n",
    "model_name = \"BLITTER3\"\n",
    "\n",
    "#ensemble on ranks\n",
    "validation_data.loc[:, f\"preds_{model_name}\"] = validation_data[\"preds_blitter_neutral_riskiest_50\"].rank(pct=True) + validation_data[\"preds_blitter1_neutral_riskiest_50\"].rank(pct=True) / 2\n",
    "tournament_data.loc[:, f\"preds_{model_name}\"] = tournament_data[\"preds_blitter_neutral_riskiest_50\"].rank(pct=True) + tournament_data[\"preds_blitter1_neutral_riskiest_50\"].rank(pct=True) / 2\n",
    "\n",
    "model_to_submit = f\"preds_{model_name}\"\n",
    "\n",
    "#rank again to fix decimals coming from the /2\n",
    "validation_data[\"prediction\"] = validation_data[model_to_submit].rank(pct=True)\n",
    "tournament_data[\"prediction\"] = tournament_data[model_to_submit].rank(pct=True)\n",
    "\n",
    "\n",
    "validation_data[\"prediction\"].to_csv(f\"validation_predictions_{current_round}_{model_to_submit}.csv\")\n",
    "tournament_data[\"prediction\"].to_csv(f\"tournament_predictions_{current_round}_{model_to_submit}.csv\")\n",
    "\n",
    "validation_stats = validation_metrics(validation_data, [model_to_submit], example_col=EXAMPLE_PREDS_COL, fast_mode=True)\n",
    "print(validation_stats[[\"mean\", \"sharpe\"]].to_markdown())"
   ]
  },
  {
   "cell_type": "code",
   "execution_count": 13,
   "metadata": {},
   "outputs": [
    {
     "name": "stdout",
     "output_type": "stream",
     "text": [
      "No nans in the features this week!\n",
      "\\"
     ]
    },
    {
     "name": "stderr",
     "output_type": "stream",
     "text": [
      "C:\\Users\\marc\\.conda\\envs\\numerai\\lib\\site-packages\\xgboost\\data.py:112: UserWarning: Use subset (sliced data) of np.ndarray is not recommended because it will generate extra copies and increase memory consumption\n",
      "  warnings.warn(\n"
     ]
    },
    {
     "name": "stdout",
     "output_type": "stream",
     "text": [
      "v Predicting on latest data\n",
      "v Neutralizing to risky features\n",
      "|                                    |      mean |   sharpe |\n",
      "|:-----------------------------------|----------:|---------:|\n",
      "| preds_BLITTER4_neutral_riskiest_50 | 0.0217391 | 0.864442 |\n"
     ]
    }
   ],
   "source": [
    "model_name = f\"BLITTER4\"\n",
    "model = create_xgb_ranker(model_name)\n",
    "save_prediction(model, model_name, is_xgbRanker= True)"
   ]
  },
  {
   "cell_type": "code",
   "execution_count": 14,
   "metadata": {},
   "outputs": [
    {
     "data": {
      "text/plain": [
       "<AxesSubplot:>"
      ]
     },
     "execution_count": 14,
     "metadata": {},
     "output_type": "execute_result"
    },
    {
     "data": {
      "image/png": "[encoded data removed]",
      "text/plain": [
       "<Figure size 432x288 with 1 Axes>"
      ]
     },
     "metadata": {
      "needs_background": "light"
     },
     "output_type": "display_data"
    },
    {
     "name": "stdout",
     "output_type": "stream",
     "text": []
    }
   ],
   "source": [
    "validation_data.loc[:, f\"preds_{model_name}\"].hist()"
   ]
  },
  {
   "cell_type": "code",
   "execution_count": 15,
   "metadata": {},
   "outputs": [
    {
     "name": "stdout",
     "output_type": "stream",
     "text": [
      "No nans in the features this week!\n",
      "\\ Predicting on latest data"
     ]
    },
    {
     "name": "stderr",
     "output_type": "stream",
     "text": [
      "C:\\Users\\marc\\.conda\\envs\\numerai\\lib\\site-packages\\xgboost\\data.py:112: UserWarning: Use subset (sliced data) of np.ndarray is not recommended because it will generate extra copies and increase memory consumption\n",
      "  warnings.warn(\n"
     ]
    },
    {
     "name": "stdout",
     "output_type": "stream",
     "text": [
      "v Predicting on latest data\n",
      "v Neutralizing to risky features\n",
      "|                                    |      mean |   sharpe |\n",
      "|:-----------------------------------|----------:|---------:|\n",
      "| preds_BLITTER4_neutral_riskiest_50 | 0.0217391 | 0.864442 |\n"
     ]
    }
   ],
   "source": [
    "model_name = f\"BLITTER4\"\n",
    "model = create_xgb_ranker(model_name)\n",
    "save_prediction(model, model_name, is_xgbRanker= False)"
   ]
  },
  {
   "cell_type": "code",
   "execution_count": 16,
   "metadata": {},
   "outputs": [
    {
     "name": "stdout",
     "output_type": "stream",
     "text": [
      "No nans in the features this week!\n",
      "v Predicting on latest data\n",
      "v Neutralizing to risky features\n",
      "|                                    |      mean |   sharpe |\n",
      "|:-----------------------------------|----------:|---------:|\n",
      "| preds_blitter5_neutral_riskiest_50 | 0.0233502 |  0.97543 |\n"
     ]
    }
   ],
   "source": [
    "model_name = f\"blitter5\"\n",
    "model = create_catboost_regressor(model_name)\n",
    "save_prediction(model, model_name)"
   ]
  },
  {
   "cell_type": "code",
   "execution_count": 17,
   "metadata": {},
   "outputs": [
    {
     "name": "stdout",
     "output_type": "stream",
     "text": [
      "predicting blitter6\n",
      "No nans in the features this week!\n"
     ]
    }
   ],
   "source": [
    "model_name = f\"blitter6\"\n",
    "loss_function = \"QueryRMSE\"\n",
    "\n",
    "model = create_catboost_ranker(model_name, loss_function)"
   ]
  },
  {
   "cell_type": "code",
   "execution_count": 18,
   "metadata": {},
   "outputs": [
    {
     "name": "stdout",
     "output_type": "stream",
     "text": [
      "v Predicting on latest data\n",
      "v Neutralizing to risky features\n",
      "|                                    |      mean |   sharpe |\n",
      "|:-----------------------------------|----------:|---------:|\n",
      "| preds_blitter6_neutral_riskiest_50 | 0.0173495 | 0.855438 |\n"
     ]
    }
   ],
   "source": [
    "save_prediction(model, model_name, use_pool =True)"
   ]
  },
  {
   "cell_type": "code",
   "execution_count": 19,
   "metadata": {},
   "outputs": [
    {
     "name": "stdout",
     "output_type": "stream",
     "text": [
      "predicting blitter7\n",
      "No nans in the features this week!\n"
     ]
    }
   ],
   "source": [
    "model_name = f\"blitter7\"\n",
    "loss_function = \"PairLogit:max_pairs=100000\"\n",
    "\n",
    "model = create_catboost_ranker(model_name, loss_function)\n"
   ]
  },
  {
   "cell_type": "code",
   "execution_count": 20,
   "metadata": {},
   "outputs": [
    {
     "name": "stdout",
     "output_type": "stream",
     "text": [
      "v Predicting on latest data\n",
      "v Neutralizing to risky features\n",
      "|                                    |      mean |   sharpe |\n",
      "|:-----------------------------------|----------:|---------:|\n",
      "| preds_blitter7_neutral_riskiest_50 | 0.0147554 | 0.726439 |\n"
     ]
    }
   ],
   "source": [
    "save_prediction(model, model_name, use_pool =True)"
   ]
  },
  {
   "cell_type": "code",
   "execution_count": 22,
   "metadata": {},
   "outputs": [
    {
     "name": "stdout",
     "output_type": "stream",
     "text": [
      "|                |      mean |   sharpe |\n",
      "|:---------------|----------:|---------:|\n",
      "| preds_blitter8 | 0.0237905 |  1.00593 |\n"
     ]
    }
   ],
   "source": [
    "model_name = \"blitter8\"\n",
    "#Ensemble equal weights blitter (lgbm)+blitter1(xgb)+blitter4(xgb rank)+blitter5(catboost)\n",
    "#ensemble on ranks\n",
    "validation_data.loc[:, f\"preds_{model_name}\"] = (\n",
    "    validation_data[\"preds_blitter_neutral_riskiest_50\"].rank(pct=True) \n",
    "    + validation_data[\"preds_blitter1_neutral_riskiest_50\"].rank(pct=True)\n",
    "    + validation_data[\"preds_BLITTER4_neutral_riskiest_50\"].rank(pct=True)\n",
    "    + validation_data[\"preds_blitter5_neutral_riskiest_50\"].rank(pct=True)\n",
    ") / 4\n",
    "\n",
    "tournament_data.loc[:, f\"preds_{model_name}\"] = (\n",
    "    tournament_data[\"preds_blitter_neutral_riskiest_50\"].rank(pct=True) \n",
    "    + tournament_data[\"preds_blitter1_neutral_riskiest_50\"].rank(pct=True)\n",
    "    + tournament_data[\"preds_BLITTER4_neutral_riskiest_50\"].rank(pct=True)\n",
    "    + tournament_data[\"preds_blitter5_neutral_riskiest_50\"].rank(pct=True)\n",
    ") / 4\n",
    "\n",
    "\n",
    "model_to_submit = f\"preds_{model_name}\"\n",
    "\n",
    "#rank again to fix decimals coming from the /2\n",
    "validation_data[\"prediction\"] = validation_data[model_to_submit].rank(pct=True)\n",
    "tournament_data[\"prediction\"] = tournament_data[model_to_submit].rank(pct=True)\n",
    "\n",
    "\n",
    "validation_data[\"prediction\"].to_csv(f\"validation_predictions_{current_round}_{model_to_submit}.csv\")\n",
    "tournament_data[\"prediction\"].to_csv(f\"tournament_predictions_{current_round}_{model_to_submit}.csv\")\n",
    "\n",
    "validation_stats = validation_metrics(validation_data, [model_to_submit], example_col=EXAMPLE_PREDS_COL, fast_mode=True)\n",
    "print(validation_stats[[\"mean\", \"sharpe\"]].to_markdown())\n"
   ]
  },
  {
   "cell_type": "code",
   "execution_count": 114,
   "metadata": {},
   "outputs": [
    {
     "name": "stdout",
     "output_type": "stream",
     "text": []
    }
   ],
   "source": [
    "import numpy as np  \n",
    "from functools import partial  \n",
    "from scipy.optimize import fmin \n",
    "from sklearn import metrics\n",
    "\n",
    "class OptimizeSpearman:  \n",
    "    \"\"\" \n",
    "    Class for optimizing AUC.  \n",
    "    This class is all you need to find best weights for  any model and for any metric and for any types of predictions.  \n",
    "    With very small changes, this class can be used for optimization of  weights in ensemble models of _any_ type of predictions \n",
    "    \"\"\"  \n",
    "    def __init__(self):  \n",
    "        self.coef_  = 0  \n",
    "        \n",
    "    def _auc(self, coef, X, y):  \n",
    "        \"\"\"  \n",
    "        This functions calculates and returns AUC.  \n",
    "        :param coef: coef list, of the same length as number of models  \n",
    "        :param X: predictions, in this case a 2d array  \n",
    "        :param y: targets, in our case binary 1d array  \n",
    "        \"\"\"  \n",
    "        # multiply coefficients with every column of the array  #with predictions.  \n",
    "        # this means: element 1 of coef is multiplied by column 1  \n",
    "        # of the prediction array, element 2 of coef is multiplied  \n",
    "        # #by column 2 of the prediction array and so on!  \n",
    "        x_coef = X * coef  \n",
    "        # create predictions by taking row wise sum  \n",
    "        predictions = np.sum(x_coef, axis=1)  \n",
    "        #calculate auc score  \n",
    "        #auc_score = metrics.roc_auc_score(y, predictions) \n",
    "        #auc_score = correlation_score(y, predictions)\n",
    "        auc_score = spearman_score(y, predictions)\n",
    "        #return negative auc  \n",
    "        return -1.0 * auc_score  \n",
    "        \n",
    "    def fit(self, X, y):  \n",
    "        #remember partial from hyperparameter optimization chapter?  \n",
    "        loss_partial = partial(self._auc, X=X, y=y)  \n",
    "        #dirichlet distribution. you can use any distribution you want  \n",
    "        #to initialize the coefficients\n",
    "        #we want the coefficients to sum to 1  \n",
    "        initial_coef = np.random.dirichlet(np.ones(X.shape[1]), size=1)  \n",
    "        #use scipy fmin to minimize the loss function, in our case auc \n",
    "        self.coef_ = fmin(loss_partial, initial_coef, disp=True) \n",
    "\n",
    "    def predict(self, X): \n",
    "        #this is similar to  _auc function \n",
    "        x_coef = X * self.coef_ \n",
    "        predictions = np.sum(x_coef, axis=1)  \n",
    "        return predictions"
   ]
  },
  {
   "cell_type": "code",
   "execution_count": 113,
   "metadata": {},
   "outputs": [
    {
     "data": {
      "text/plain": [
       "array([[<AxesSubplot:title={'center':'preds_blitter_neutral_riskiest_50'}>,\n",
       "        <AxesSubplot:title={'center':'preds_blitter1_neutral_riskiest_50'}>],\n",
       "       [<AxesSubplot:title={'center':'preds_BLITTER4_neutral_riskiest_50'}>,\n",
       "        <AxesSubplot:title={'center':'preds_blitter5_neutral_riskiest_50'}>]],\n",
       "      dtype=object)"
      ]
     },
     "execution_count": 113,
     "metadata": {},
     "output_type": "execute_result"
    },
    {
     "data": {
      "image/png": "[encoded data removed]",
      "text/plain": [
       "<Figure size 432x288 with 4 Axes>"
      ]
     },
     "metadata": {
      "needs_background": "light"
     },
     "output_type": "display_data"
    },
    {
     "name": "stdout",
     "output_type": "stream",
     "text": []
    }
   ],
   "source": [
    "#BLITTER 9 - Optimize weights to validation\n",
    "# overfitting???\n",
    "model_name = \"blitter9\"\n",
    "pred_cols = [\"preds_blitter_neutral_riskiest_50\", \"preds_blitter1_neutral_riskiest_50\", \"preds_BLITTER4_neutral_riskiest_50\", \"preds_blitter5_neutral_riskiest_50\"]\n",
    "validation_data[pred_cols].hist()\n"
   ]
  },
  {
   "cell_type": "code",
   "execution_count": 115,
   "metadata": {},
   "outputs": [
    {
     "name": "stdout",
     "output_type": "stream",
     "text": [
      "Optimization terminated successfully.\n",
      "         Current function value: -0.024831\n",
      "         Iterations: 119\n",
      "         Function evaluations: 207\n"
     ]
    }
   ],
   "source": [
    "model_to_submit = f\"preds_{model_name}\"\n",
    "opt = OptimizeSpearman()\n",
    "opt.fit(validation_data[pred_cols], validation_data[TARGET_COL])\n",
    "opt_valid = opt.predict(validation_data[pred_cols])\n",
    "opt_preds = opt.predict(tournament_data[pred_cols]) "
   ]
  },
  {
   "cell_type": "code",
   "execution_count": 116,
   "metadata": {},
   "outputs": [
    {
     "name": "stdout",
     "output_type": "stream",
     "text": [
      "|                |      mean |   sharpe |\n",
      "|:---------------|----------:|---------:|\n",
      "| preds_blitter9 | 0.0247343 |   1.1265 |\n"
     ]
    }
   ],
   "source": [
    "\n",
    "\n",
    "\n",
    "#rank again to fix decimals coming from the /2\n",
    "validation_data[\"prediction\"] = opt_valid.rank(pct=True)\n",
    "tournament_data[\"prediction\"] = opt_preds.rank(pct=True)\n",
    "\n",
    "\n",
    "validation_data[\"prediction\"].to_csv(f\"validation_predictions_{current_round}_{model_to_submit}.csv\")\n",
    "tournament_data[\"prediction\"].to_csv(f\"tournament_predictions_{current_round}_{model_to_submit}.csv\")\n",
    "validation_data.loc[:, model_to_submit] = opt_valid #ojo a les stats es passa sense rankejar?\n",
    "\n",
    "validation_stats = validation_metrics(validation_data, [model_to_submit], example_col=EXAMPLE_PREDS_COL, fast_mode=True)\n",
    "print(validation_stats[[\"mean\", \"sharpe\"]].to_markdown())"
   ]
  },
  {
   "cell_type": "code",
   "execution_count": 117,
   "metadata": {},
   "outputs": [
    {
     "data": {
      "text/plain": [
       "array([-0.01164271,  0.3425547 , -0.15910506,  0.08494743])"
      ]
     },
     "execution_count": 117,
     "metadata": {},
     "output_type": "execute_result"
    },
    {
     "name": "stdout",
     "output_type": "stream",
     "text": []
    }
   ],
   "source": [
    "opt.coef_"
   ]
  },
  {
   "cell_type": "code",
   "execution_count": 124,
   "metadata": {},
   "outputs": [
    {
     "name": "stdout",
     "output_type": "stream",
     "text": [
      "Optimization terminated successfully.\n",
      "         Current function value: -0.024375\n",
      "         Iterations: 55\n",
      "         Function evaluations: 111\n",
      "|                 |      mean |   sharpe |\n",
      "|:----------------|----------:|---------:|\n",
      "| preds_blitter10 | 0.0242872 |  1.03989 |\n"
     ]
    },
    {
     "data": {
      "image/png": "[encoded data removed]",
      "text/plain": [
       "<Figure size 432x288 with 4 Axes>"
      ]
     },
     "metadata": {
      "needs_background": "light"
     },
     "output_type": "display_data"
    },
    {
     "name": "stdout",
     "output_type": "stream",
     "text": []
    }
   ],
   "source": [
    "#blitter10 - only 3 / lgbm xgb cb\n",
    "#Optimize weights to validation\n",
    "# overfitting???\n",
    "model_name = \"blitter10\"\n",
    "pred_cols = [\"preds_blitter_neutral_riskiest_50\", \"preds_blitter1_neutral_riskiest_50\", \"preds_blitter5_neutral_riskiest_50\"]\n",
    "validation_data[pred_cols].hist()\n",
    "model_to_submit = f\"preds_{model_name}\"\n",
    "opt = OptimizeSpearman()\n",
    "opt.fit(validation_data[pred_cols], validation_data[TARGET_COL])\n",
    "opt_valid = opt.predict(validation_data[pred_cols])\n",
    "opt_preds = opt.predict(tournament_data[pred_cols]) \n",
    "#rank again to fix decimals coming from the /2\n",
    "validation_data[\"prediction\"] = opt_valid.rank(pct=True)\n",
    "tournament_data[\"prediction\"] = opt_preds.rank(pct=True)\n",
    "\n",
    "\n",
    "validation_data[\"prediction\"].to_csv(f\"validation_predictions_{current_round}_{model_to_submit}.csv\")\n",
    "tournament_data[\"prediction\"].to_csv(f\"tournament_predictions_{current_round}_{model_to_submit}.csv\")\n",
    "validation_data.loc[:, model_to_submit] = opt_valid #ojo a les stats es passa sense rankejar?\n",
    "\n",
    "validation_stats = validation_metrics(validation_data, [model_to_submit], example_col=EXAMPLE_PREDS_COL, fast_mode=True)\n",
    "print(validation_stats[[\"mean\", \"sharpe\"]].to_markdown())"
   ]
  },
  {
   "cell_type": "code",
   "execution_count": 123,
   "metadata": {},
   "outputs": [
    {
     "data": {
      "text/plain": [
       "array([0.81527418, 0.24385693])"
      ]
     },
     "execution_count": 123,
     "metadata": {},
     "output_type": "execute_result"
    },
    {
     "name": "stdout",
     "output_type": "stream",
     "text": []
    }
   ],
   "source": [
    "opt.coef_"
   ]
  },
  {
   "cell_type": "markdown",
   "metadata": {},
   "source": [
    "# TODO GroupKfold for non overlapping eras\n",
    "# optuna optimize\n",
    "\n",
    "# stacking"
   ]
  },
  {
   "cell_type": "markdown",
   "metadata": {},
   "source": [
    "LTR over slightly neutralized target"
   ]
  }
 ],
 "metadata": {
  "interpreter": {
   "hash": "12eb2deb491f06237ee9901a58432554b7037b679c06f592229f3038c962b482"
  },
  "kernelspec": {
   "display_name": "Python 3.8.8 64-bit ('numerai': conda)",
   "name": "python3"
  },
  "language_info": {
   "codemirror_mode": {
    "name": "ipython",
    "version": 3
   },
   "file_extension": ".py",
   "mimetype": "text/x-python",
   "name": "python",
   "nbconvert_exporter": "python",
   "pygments_lexer": "ipython3",
   "version": "3.8.8"
  }
 },
 "nbformat": 4,
 "nbformat_minor": 2
}
