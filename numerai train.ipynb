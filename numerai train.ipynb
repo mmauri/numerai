{
 "cells": [
  {
   "cell_type": "code",
   "execution_count": 1,
   "source": [
    "import pandas as pd\r\n",
    "from lightgbm import LGBMRegressor\r\n",
    "import gc\r\n",
    "from numerapi import NumerAPI\r\n",
    "from halo import Halo\r\n",
    "from utils import save_model, load_model, neutralize, get_biggest_change_features, validation_metrics, download_data\r\n",
    "\r\n",
    "\r\n",
    "\r\n",
    "napi = NumerAPI()\r\n",
    "spinner = Halo(text='', spinner='dots')\r\n",
    "\r\n",
    "current_round = napi.get_current_round(tournament=8)  # tournament 8 is the primary Numerai Tournament\r\n",
    "print(current_round)\r\n",
    "\r\n",
    "# read in all of the new datas\r\n",
    "# tournament data and example predictions change every week so we specify the round in their names\r\n",
    "# training and validation data only change periodically, so no need to download them over again every single week\r\n",
    "napi.download_dataset(\"numerai_training_data_int8.parquet\", \"numerai_training_data_int8.parquet\")\r\n",
    "napi.download_dataset(\"numerai_tournament_data_int8.parquet\", f\"numerai_tournament_data_{current_round}_int8.parquet\")\r\n",
    "napi.download_dataset(\"numerai_validation_data_int8.parquet\", f\"numerai_validation_data_int8.parquet\")\r\n",
    "napi.download_dataset(\"example_predictions.parquet\", f\"example_predictions_{current_round}.parquet\")\r\n",
    "napi.download_dataset(\"example_validation_predictions.parquet\", \"example_validation_predictions.parquet\")\r\n",
    "\r\n",
    "spinner.start('Reading parquet data')\r\n",
    "training_data = pd.read_parquet('numerai_training_data_int8.parquet')\r\n",
    "tournament_data = pd.read_parquet(f'numerai_tournament_data_{current_round}_int8.parquet')\r\n",
    "validation_data = pd.read_parquet('numerai_validation_data_int8.parquet')\r\n",
    "example_preds = pd.read_parquet(f'example_predictions_{current_round}.parquet')\r\n",
    "validation_preds = pd.read_parquet('example_validation_predictions.parquet')\r\n",
    "spinner.succeed()\r\n",
    "\r\n",
    "EXAMPLE_PREDS_COL = \"example_preds\"\r\n",
    "validation_data[EXAMPLE_PREDS_COL] = validation_preds[\"prediction\"]\r\n",
    "\r\n",
    "TARGET_COL = \"target\"\r\n",
    "ERA_COL = \"era\"\r\n",
    "\r\n",
    "# all feature columns start with the prefix \"feature_\"\r\n",
    "#feature_cols = [c for c in training_data if c.startswith(\"feature_\")]\r\n",
    "\r\n",
    "gc.collect()"
   ],
   "outputs": [
    {
     "output_type": "stream",
     "name": "stdout",
     "text": [
      "285\n"
     ]
    },
    {
     "output_type": "stream",
     "name": "stderr",
     "text": [
      "2021-10-09 21:47:22,380 INFO numerapi.utils: target file already exists\n",
      "2021-10-09 21:47:22,382 INFO numerapi.utils: download complete\n",
      "2021-10-09 21:47:23,297 INFO numerapi.utils: starting download\n",
      "numerai_tournament_data_285_int8.parquet: 582MB [00:18, 31.5MB/s]                           \n",
      "2021-10-09 21:47:42,922 INFO numerapi.utils: target file already exists\n",
      "2021-10-09 21:47:42,923 INFO numerapi.utils: download complete\n",
      "2021-10-09 21:47:44,088 INFO numerapi.utils: starting download\n",
      "example_predictions_285.parquet: 33.5MB [00:01, 16.8MB/s]                            \n",
      "2021-10-09 21:47:46,968 INFO numerapi.utils: target file already exists\n",
      "2021-10-09 21:47:46,969 INFO numerapi.utils: download complete\n"
     ]
    },
    {
     "output_type": "stream",
     "name": "stdout",
     "text": [
      "v Reading parquet data\n"
     ]
    },
    {
     "output_type": "execute_result",
     "data": {
      "text/plain": [
       "0"
      ]
     },
     "metadata": {},
     "execution_count": 1
    },
    {
     "output_type": "stream",
     "name": "stdout",
     "text": []
    }
   ],
   "metadata": {}
  },
  {
   "cell_type": "code",
   "execution_count": 2,
   "source": [
    "f=['feature_haziest_lifelike_horseback', 'feature_glare_factional_assessment', 'feature_exorbitant_myeloid_crinkle', 'feature_travelled_semipermeable_perruquier', 'feature_branched_dilatory_sunbelt', 'feature_moralistic_heartier_typhoid', 'feature_introvert_symphysial_assegai', 'feature_gullable_sanguine_incongruity', 'feature_agile_unrespited_gaucho', 'feature_canalicular_peeling_lilienthal', 'feature_unvaried_social_bangkok', 'feature_lofty_acceptable_challenge', 'feature_grandmotherly_circumnavigable_homonymity', 'feature_undivorced_unsatisfying_praetorium', 'feature_unaired_operose_lactoprotein']\r\n",
    "f+=['feature_travelled_semipermeable_perruquier', 'feature_planned_superimposed_bend', 'feature_moralistic_heartier_typhoid', 'feature_crowning_frustrate_kampala', 'feature_unaired_operose_lactoprotein', 'feature_flintier_enslaved_borsch', 'feature_cambial_bigoted_bacterioid', 'feature_jerkwater_eustatic_electrocardiograph', 'feature_unvaried_social_bangkok', 'feature_communicatory_unrecommended_velure', 'feature_lofty_acceptable_challenge', 'feature_grandmotherly_circumnavigable_homonymity', 'feature_antichristian_slangiest_idyllist', 'feature_assenting_darn_arthropod', 'feature_haziest_lifelike_horseback', 'feature_exorbitant_myeloid_crinkle', 'feature_beery_somatologic_elimination', 'feature_silver_handworked_scauper', 'feature_canalicular_peeling_lilienthal', 'feature_undivorced_unsatisfying_praetorium']\r\n",
    "f+=['feature_glare_factional_assessment', 'feature_travelled_semipermeable_perruquier', 'feature_moralistic_heartier_typhoid', 'feature_stylistic_honduran_comprador', 'feature_crowning_frustrate_kampala', 'feature_unaired_operose_lactoprotein', 'feature_flintier_enslaved_borsch', 'feature_unvaried_social_bangkok', 'feature_apomictical_motorized_vaporisation', 'feature_lofty_acceptable_challenge', 'feature_antichristian_slangiest_idyllist', 'feature_store_apteral_isocheim', 'feature_unforbidden_highbrow_kafir', 'feature_buxom_curtained_sienna', 'feature_haziest_lifelike_horseback', 'feature_exorbitant_myeloid_crinkle', 'feature_silver_handworked_scauper', 'feature_canalicular_peeling_lilienthal', 'feature_introvert_symphysial_assegai', 'feature_univalve_abdicant_distrail', 'feature_undivorced_unsatisfying_praetorium']\r\n",
    "f+=['feature_glare_factional_assessment', 'feature_unsealed_suffixal_babar', 'feature_travelled_semipermeable_perruquier', 'feature_moralistic_heartier_typhoid', 'feature_twisty_adequate_minutia', 'feature_flintier_enslaved_borsch', 'feature_slack_calefacient_tableau', 'feature_bhutan_imagism_dolerite', 'feature_unvaried_social_bangkok', 'feature_communicatory_unrecommended_velure', 'feature_lofty_acceptable_challenge', 'feature_grandmotherly_circumnavigable_homonymity', 'feature_chuffier_analectic_conchiolin', 'feature_antichristian_slangiest_idyllist', 'feature_unwonted_trusted_fixative', 'feature_haziest_lifelike_horseback', 'feature_exorbitant_myeloid_crinkle', 'feature_beery_somatologic_elimination', 'feature_winsome_irreproachable_milkfish', 'feature_gullable_sanguine_incongruity', 'feature_silver_handworked_scauper', 'feature_canalicular_peeling_lilienthal', 'feature_introvert_symphysial_assegai', 'feature_undivorced_unsatisfying_praetorium']\r\n",
    "\r\n",
    "feature_cols = list(set(f))\r\n",
    "len(feature_cols)"
   ],
   "outputs": [
    {
     "output_type": "execute_result",
     "data": {
      "text/plain": [
       "38"
      ]
     },
     "metadata": {},
     "execution_count": 2
    },
    {
     "output_type": "stream",
     "name": "stdout",
     "text": []
    }
   ],
   "metadata": {}
  },
  {
   "cell_type": "code",
   "execution_count": 3,
   "source": [
    "def create_lgbm_regressor(model_name:str):\r\n",
    "    model = load_model(model_name)\r\n",
    "    if not model:\r\n",
    "        print(f\"model not found, training new one\")\r\n",
    "        params = {\"n_estimators\": 2000,\r\n",
    "                \"learning_rate\": 0.01,\r\n",
    "                \"max_depth\": 5,\r\n",
    "                \"num_leaves\": 2 ** 5,\r\n",
    "                \"colsample_bytree\": 0.1}\r\n",
    "\r\n",
    "        model = LGBMRegressor(**params)\r\n",
    "\r\n",
    "        # train on all of train, predict on val, predict on tournament, save the model so we don't have to train next time\r\n",
    "        spinner.start('Training model')\r\n",
    "        model.fit(training_data.loc[:, feature_cols], training_data[TARGET_COL])\r\n",
    "        print(f\"saving new model: {model_name}\")\r\n",
    "        save_model(model, model_name)\r\n",
    "        spinner.succeed()\r\n",
    "\r\n",
    "    # check for nans and fill nans\r\n",
    "    if tournament_data.loc[tournament_data[\"data_type\"] == \"live\", feature_cols].isna().sum().sum():\r\n",
    "        cols_w_nan = tournament_data.loc[tournament_data[\"data_type\"] == \"live\", feature_cols].isna().sum()\r\n",
    "        total_rows = tournament_data[tournament_data[\"data_type\"] == \"live\"]\r\n",
    "        print(f\"Number of nans per column this week: {cols_w_nan[cols_w_nan > 0]}\")\r\n",
    "        print(f\"out of {total_rows} total rows\")\r\n",
    "        print(f\"filling nans with 0.5\")\r\n",
    "        tournament_data.loc[:, feature_cols].fillna(0.5, inplace=True)\r\n",
    "    else:\r\n",
    "        print(\"No nans in the features this week!\")\r\n",
    "\r\n",
    "    return model\r\n"
   ],
   "outputs": [
    {
     "output_type": "stream",
     "name": "stdout",
     "text": []
    }
   ],
   "metadata": {}
  },
  {
   "cell_type": "code",
   "execution_count": 4,
   "source": [
    "def save_prediction(model, model_name, neutralize_proportion = 0.8, is_xgbRanker = False, use_pool = False):\r\n",
    "    spinner.start('Predicting on latest data')\r\n",
    "    # double check the feature that the model expects vs what is available\r\n",
    "    # this prevents our pipeline from failing if Numerai adds more data and we don't have time to retrain!\r\n",
    "\r\n",
    "\r\n",
    "    try:\r\n",
    "        model_expected_features = model.booster_.feature_name()\r\n",
    "    except:\r\n",
    "        try:\r\n",
    "            model_expected_features = model.get_booster().feature_names\r\n",
    "        except:\r\n",
    "            model_expected_features = model.feature_names_\r\n",
    "        \r\n",
    "    if set(model_expected_features) != set(feature_cols):\r\n",
    "        print(f\"New features are available! Might want to retrain model {model_name}.\")\r\n",
    "\r\n",
    "    if not use_pool:\r\n",
    "        # if is_xgbRanker:\r\n",
    "            \r\n",
    "        #     for era in validation_data.era.unique():\r\n",
    "        #         print(f\"predicting valid era:{era}\")\r\n",
    "        #         validation_data.loc[validation_data.era == era, f\"preds_{model_name}\"] = \\\r\n",
    "        #             model.predict(validation_data.loc[validation_data.era == era, model_expected_features])\r\n",
    "\r\n",
    "        #     for era in tournament_data.era.unique():\r\n",
    "        #         print(f\"predicting tournament era:{era}\")\r\n",
    "        #         tournament_data.loc[tournament_data.era == era, f\"preds_{model_name}\"] = \\\r\n",
    "        #             model.predict(tournament_data.loc[tournament_data.era == era, model_expected_features])\r\n",
    "        # else:\r\n",
    "        validation_data.loc[:, f\"preds_{model_name}\"] = model.predict(validation_data.loc[:, model_expected_features])\r\n",
    "        tournament_data.loc[:, f\"preds_{model_name}\"] = model.predict(tournament_data.loc[:, model_expected_features])\r\n",
    "    else:\r\n",
    "        #catboost ranker is not compayible with sklearn\r\n",
    "\r\n",
    "        test_pool = Pool(\r\n",
    "            data=validation_data.loc[:, feature_cols],\r\n",
    "            label=validation_data[TARGET_COL],\r\n",
    "            group_id=validation_data.era\r\n",
    "        )\r\n",
    "        validation_data.loc[:, f\"preds_{model_name}\"] = model.predict(test_pool)\r\n",
    "\r\n",
    "        tournament_pool = Pool (\r\n",
    "            data = tournament_data.loc[:, model_expected_features],\r\n",
    "            group_id = tournament_data.era\r\n",
    "        )\r\n",
    "\r\n",
    "        tournament_data.loc[:, f\"preds_{model_name}\"] = model.predict(tournament_pool)\r\n",
    "\r\n",
    "    spinner.succeed()\r\n",
    "\r\n",
    "    spinner.start('Neutralizing to risky features')\r\n",
    "    # getting the per era correlation of each feature vs the target\r\n",
    "    all_feature_corrs = training_data.groupby(ERA_COL).apply(lambda d: d[feature_cols].corrwith(d[TARGET_COL]))\r\n",
    "\r\n",
    "    # find the riskiest features by comparing their correlation vs the target in half 1 and half 2 of training data\r\n",
    "    riskiest_features = get_biggest_change_features(all_feature_corrs, 50)\r\n",
    "\r\n",
    "    # neutralize our predictions to the riskiest features\r\n",
    "    validation_data[f\"preds_{model_name}_neutral_riskiest_50\"] = neutralize(df=validation_data,\r\n",
    "                                                                            columns=[f\"preds_{model_name}\"],\r\n",
    "                                                                            neutralizers=riskiest_features,\r\n",
    "                                                                            proportion=neutralize_proportion,\r\n",
    "                                                                            normalize=True,\r\n",
    "                                                                            era_col=ERA_COL)\r\n",
    "\r\n",
    "    tournament_data[f\"preds_{model_name}_neutral_riskiest_50\"] = neutralize(df=tournament_data,\r\n",
    "                                                                            columns=[f\"preds_{model_name}\"],\r\n",
    "                                                                            neutralizers=riskiest_features,\r\n",
    "                                                                            proportion=neutralize_proportion,\r\n",
    "                                                                            normalize=True,\r\n",
    "                                                                            era_col=ERA_COL)\r\n",
    "    spinner.succeed()\r\n",
    "\r\n",
    "    model_to_submit = f\"preds_{model_name}_neutral_riskiest_50\"\r\n",
    "\r\n",
    "    # rename best model to prediction and rank from 0 to 1 to meet diagnostic/submission file requirements\r\n",
    "    validation_data[\"prediction\"] = validation_data[model_to_submit].rank(pct=True)\r\n",
    "    tournament_data[\"prediction\"] = tournament_data[model_to_submit].rank(pct=True)\r\n",
    "    validation_data[\"prediction\"].to_csv(f\"validation_predictions_{current_round}_{model_to_submit}.csv\")\r\n",
    "    tournament_data[\"prediction\"].to_csv(f\"tournament_predictions_{current_round}_{model_to_submit}.csv\")\r\n",
    "\r\n",
    "    # get some stats about each of our models to compare...\r\n",
    "    # fast_mode=True so that we skip some of the stats that are slower to calculate\r\n",
    "    validation_stats = validation_metrics(validation_data, [model_to_submit], example_col=EXAMPLE_PREDS_COL, fast_mode=True)\r\n",
    "    print(validation_stats[[\"mean\", \"sharpe\"]].to_markdown())"
   ],
   "outputs": [
    {
     "output_type": "stream",
     "name": "stdout",
     "text": []
    }
   ],
   "metadata": {}
  },
  {
   "cell_type": "code",
   "execution_count": 5,
   "source": [
    "#Blitter4 XGBRank\r\n",
    "from xgboost import XGBRanker\r\n",
    "from collections import Counter\r\n",
    "\r\n",
    "\r\n",
    "def create_xgb_ranker(model_name:str):\r\n",
    "    model = load_model(model_name)\r\n",
    "    if not model:\r\n",
    "        print(f\"model not found, training new one\")\r\n",
    "\r\n",
    "                        \r\n",
    "        model = XGBRanker(max_depth=5, learning_rate=0.01, n_estimators=2000, n_jobs=-1, colsample_bytree=0.1)\r\n",
    "        # cdf = training_data.groupby('era').agg(['count'])\r\n",
    "        # group = cdf[cdf.columns[0]].values\r\n",
    "        # del cdf\r\n",
    "        group = Counter(training_data.era).values()\r\n",
    "\r\n",
    "        # train on all of train, predict on val, predict on tournament, save the model so we don't have to train next time\r\n",
    "        spinner.start('Training model')\r\n",
    "        model.fit(training_data.loc[:, feature_cols], training_data[TARGET_COL], group=group)\r\n",
    "        print(f\"saving new model: {model_name}\")\r\n",
    "        save_model(model, model_name)\r\n",
    "        spinner.succeed()\r\n",
    "\r\n",
    "    # check for nans and fill nans\r\n",
    "    if tournament_data.loc[tournament_data[\"data_type\"] == \"live\", feature_cols].isna().sum().sum():\r\n",
    "        cols_w_nan = tournament_data.loc[tournament_data[\"data_type\"] == \"live\", feature_cols].isna().sum()\r\n",
    "        total_rows = tournament_data[tournament_data[\"data_type\"] == \"live\"]\r\n",
    "        print(f\"Number of nans per column this week: {cols_w_nan[cols_w_nan > 0]}\")\r\n",
    "        print(f\"out of {total_rows} total rows\")\r\n",
    "        print(f\"filling nans with 0.5\")\r\n",
    "        tournament_data.loc[:, feature_cols].fillna(0.5, inplace=True)\r\n",
    "    else:\r\n",
    "        print(\"No nans in the features this week!\")\r\n",
    "\r\n",
    "    return model"
   ],
   "outputs": [
    {
     "output_type": "stream",
     "name": "stdout",
     "text": []
    }
   ],
   "metadata": {}
  },
  {
   "cell_type": "code",
   "execution_count": 6,
   "source": [
    "from xgboost import XGBRegressor\r\n",
    "\r\n",
    "def create_xgb_regressor(model_name:str):\r\n",
    "    model = load_model(model_name)\r\n",
    "    if not model:\r\n",
    "        print(f\"model not found, training new one\")\r\n",
    "        params = {\"n_estimators\": 2000,\r\n",
    "                \"learning_rate\": 0.01,\r\n",
    "                \"max_depth\": 5,\r\n",
    "                \"num_leaves\": 2 ** 5,\r\n",
    "                \"colsample_bytree\": 0.1}\r\n",
    "\r\n",
    "        model = XGBRegressor(max_depth=5, learning_rate=0.01, \\\r\n",
    "                        n_estimators=2000, colsample_bytree=0.1) #provar regularitzacions\r\n",
    "\r\n",
    "        # train on all of train, predict on val, predict on tournament, save the model so we don't have to train next time\r\n",
    "        spinner.start('Training model')\r\n",
    "        model.fit(training_data.loc[:, feature_cols], training_data[TARGET_COL])\r\n",
    "        print(f\"saving new model: {model_name}\")\r\n",
    "        save_model(model, model_name)\r\n",
    "        spinner.succeed()\r\n",
    "\r\n",
    "    # check for nans and fill nans\r\n",
    "    if tournament_data.loc[tournament_data[\"data_type\"] == \"live\", feature_cols].isna().sum().sum():\r\n",
    "        cols_w_nan = tournament_data.loc[tournament_data[\"data_type\"] == \"live\", feature_cols].isna().sum()\r\n",
    "        total_rows = tournament_data[tournament_data[\"data_type\"] == \"live\"]\r\n",
    "        print(f\"Number of nans per column this week: {cols_w_nan[cols_w_nan > 0]}\")\r\n",
    "        print(f\"out of {total_rows} total rows\")\r\n",
    "        print(f\"filling nans with 0.5\")\r\n",
    "        tournament_data.loc[:, feature_cols].fillna(0.5, inplace=True)\r\n",
    "    else:\r\n",
    "        print(\"No nans in the features this week!\")\r\n",
    "\r\n",
    "    return model"
   ],
   "outputs": [
    {
     "output_type": "stream",
     "name": "stdout",
     "text": []
    }
   ],
   "metadata": {}
  },
  {
   "cell_type": "code",
   "execution_count": 7,
   "source": [
    "#BLITTER5 - Catboost regressor\r\n",
    "from catboost import CatBoostRegressor\r\n",
    "\r\n",
    "def create_catboost_regressor(model_name:str):\r\n",
    "\r\n",
    "    model = load_model(model_name)\r\n",
    "    if not model:\r\n",
    "        print(f\"model not found, training new one\")\r\n",
    "\r\n",
    "        model = CatBoostRegressor(max_depth=5, learning_rate=0.01, \\\r\n",
    "                        n_estimators=2000, rsm=0.1) #provar regularitzacions\r\n",
    "\r\n",
    "        # train on all of train, predict on val, predict on tournament, save the model so we don't have to train next time\r\n",
    "        spinner.start('Training model')\r\n",
    "        model.fit(training_data.loc[:, feature_cols], training_data[TARGET_COL])\r\n",
    "        print(f\"saving new model: {model_name}\")\r\n",
    "        save_model(model, model_name)\r\n",
    "        spinner.succeed()\r\n",
    "\r\n",
    "    # check for nans and fill nans\r\n",
    "    if tournament_data.loc[tournament_data[\"data_type\"] == \"live\", feature_cols].isna().sum().sum():\r\n",
    "        cols_w_nan = tournament_data.loc[tournament_data[\"data_type\"] == \"live\", feature_cols].isna().sum()\r\n",
    "        total_rows = tournament_data[tournament_data[\"data_type\"] == \"live\"]\r\n",
    "        print(f\"Number of nans per column this week: {cols_w_nan[cols_w_nan > 0]}\")\r\n",
    "        print(f\"out of {total_rows} total rows\")\r\n",
    "        print(f\"filling nans with 0.5\")\r\n",
    "        tournament_data.loc[:, feature_cols].fillna(0.5, inplace=True)\r\n",
    "    else:\r\n",
    "        print(\"No nans in the features this week!\")\r\n",
    "    return model"
   ],
   "outputs": [
    {
     "output_type": "stream",
     "name": "stdout",
     "text": []
    }
   ],
   "metadata": {}
  },
  {
   "cell_type": "code",
   "execution_count": 8,
   "source": [
    "from catboost import CatBoostRanker, Pool\r\n",
    "\r\n",
    "def create_catboost_ranker(model_name : str, loss_function : str, plot = True, verbose = False):\r\n",
    "    gc.collect()\r\n",
    "    print(f\"predicting {model_name}\")\r\n",
    "    model = load_model(model_name)\r\n",
    "    if not model:\r\n",
    "        print(f\"model not found, training new one\")\r\n",
    "        parameters = {\r\n",
    "            'iterations': 200,\r\n",
    "            'custom_metric': ['NDCG', 'PFound'],\r\n",
    "            'verbose': verbose,\r\n",
    "            'random_seed': 0,\r\n",
    "            'rsm' : 0.1,\r\n",
    "            'learning_rate' : 0.01,\r\n",
    "            'loss_function' : loss_function,\r\n",
    "            #'train_dir' : loss_function\r\n",
    "        }\r\n",
    "\r\n",
    "        train_pool = Pool(\r\n",
    "            data=training_data.loc[:, feature_cols],\r\n",
    "            label=training_data[TARGET_COL],\r\n",
    "            group_id=training_data.era\r\n",
    "        )\r\n",
    "\r\n",
    "        test_pool = Pool(\r\n",
    "            data=validation_data.loc[:, feature_cols],\r\n",
    "            label=validation_data[TARGET_COL],\r\n",
    "            group_id=validation_data.era\r\n",
    "        )\r\n",
    "\r\n",
    "        model = CatBoostRanker(**parameters)\r\n",
    "\r\n",
    "\r\n",
    "        # train on all of train, predict on val, predict on tournament, save the model so we don't have to train next time\r\n",
    "        #spinner.start('Training model')\r\n",
    "        model.fit(train_pool, eval_set=test_pool, early_stopping_rounds=10, plot=plot)\r\n",
    "\r\n",
    "        print(f\"saving new model: {model_name}\")\r\n",
    "        save_model(model, model_name)\r\n",
    "        #spinner.succeed()\r\n",
    "\r\n",
    "    # check for nans and fill nans\r\n",
    "    if tournament_data.loc[tournament_data[\"data_type\"] == \"live\", feature_cols].isna().sum().sum():\r\n",
    "        cols_w_nan = tournament_data.loc[tournament_data[\"data_type\"] == \"live\", feature_cols].isna().sum()\r\n",
    "        total_rows = tournament_data[tournament_data[\"data_type\"] == \"live\"]\r\n",
    "        print(f\"Number of nans per column this week: {cols_w_nan[cols_w_nan > 0]}\")\r\n",
    "        print(f\"out of {total_rows} total rows\")\r\n",
    "        print(f\"filling nans with 0.5\")\r\n",
    "        tournament_data.loc[:, feature_cols].fillna(0.5, inplace=True)\r\n",
    "    else:\r\n",
    "        print(\"No nans in the features this week!\")\r\n",
    "\r\n",
    "    return model"
   ],
   "outputs": [
    {
     "output_type": "stream",
     "name": "stdout",
     "text": []
    }
   ],
   "metadata": {}
  },
  {
   "cell_type": "code",
   "execution_count": 9,
   "source": [
    "model_name = f\"blitter\"\r\n",
    "model = create_lgbm_regressor(model_name)\r\n",
    "save_prediction(model, model_name)"
   ],
   "outputs": [
    {
     "output_type": "stream",
     "name": "stdout",
     "text": [
      "No nans in the features this week!\n",
      "v Predicting on latest data\n",
      "v Neutralizing to risky features\n",
      "|                                   |      mean |   sharpe |\n",
      "|:----------------------------------|----------:|---------:|\n",
      "| preds_blitter_neutral_riskiest_50 | 0.0228259 |  1.05479 |\n"
     ]
    }
   ],
   "metadata": {}
  },
  {
   "cell_type": "code",
   "execution_count": 10,
   "source": [
    "model_name = \"blitter1\" #f\"xgboost_bare\"\r\n",
    "model = create_xgb_regressor(model_name)\r\n",
    "save_prediction(model, model_name)"
   ],
   "outputs": [
    {
     "output_type": "stream",
     "name": "stdout",
     "text": [
      "No nans in the features this week!\n",
      "v Predicting on latest data\n",
      "v Neutralizing to risky features\n",
      "|                                    |      mean |   sharpe |\n",
      "|:-----------------------------------|----------:|---------:|\n",
      "| preds_blitter1_neutral_riskiest_50 | 0.0241834 |  1.04763 |\n"
     ]
    }
   ],
   "metadata": {}
  },
  {
   "cell_type": "code",
   "execution_count": 11,
   "source": [
    "#Ensemble Lgbm + XGBoost ja neutralitzzades\r\n",
    "model_name = \"BLITTER2\"\r\n",
    "\r\n",
    "validation_data.loc[:, f\"preds_{model_name}\"] = validation_data[\"preds_blitter_neutral_riskiest_50\"] * 0.5 + validation_data[\"preds_blitter1_neutral_riskiest_50\"] * 0.5\r\n",
    "tournament_data.loc[:, f\"preds_{model_name}\"] = tournament_data[\"preds_blitter_neutral_riskiest_50\"] * 0.5 + tournament_data[\"preds_blitter1_neutral_riskiest_50\"] * 0.5\r\n",
    "\r\n",
    "model_to_submit = f\"preds_{model_name}_neutral_riskiest_50\"\r\n",
    "\r\n",
    "validation_data[model_to_submit] = validation_data[f\"preds_{model_name}\"]\r\n",
    "tournament_data[model_to_submit] = tournament_data[f\"preds_{model_name}\"]\r\n",
    "\r\n",
    "\r\n",
    "# rename best model to prediction and rank from 0 to 1 to meet diagnostic/submission file requirements\r\n",
    "validation_data[\"prediction\"] = validation_data[model_to_submit].rank(pct=True)\r\n",
    "tournament_data[\"prediction\"] = tournament_data[model_to_submit].rank(pct=True)\r\n",
    "\r\n",
    "validation_data[\"prediction\"].to_csv(f\"validation_predictions_{current_round}_{model_to_submit}.csv\")\r\n",
    "tournament_data[\"prediction\"].to_csv(f\"tournament_predictions_{current_round}_{model_to_submit}.csv\")\r\n",
    "\r\n",
    "validation_stats = validation_metrics(validation_data, [model_to_submit], example_col=EXAMPLE_PREDS_COL, fast_mode=True)\r\n",
    "print(validation_stats[[\"mean\", \"sharpe\"]].to_markdown())\r\n"
   ],
   "outputs": [
    {
     "output_type": "stream",
     "name": "stdout",
     "text": [
      "|                                    |      mean |   sharpe |\n",
      "|:-----------------------------------|----------:|---------:|\n",
      "| preds_BLITTER2_neutral_riskiest_50 | 0.0239164 |  1.06938 |\n"
     ]
    }
   ],
   "metadata": {}
  },
  {
   "cell_type": "code",
   "execution_count": 12,
   "source": [
    "#Ensemble Lgbm + XGBoost ensemble after rank\r\n",
    "model_name = \"BLITTER3\"\r\n",
    "\r\n",
    "#ensemble on ranks\r\n",
    "validation_data.loc[:, f\"preds_{model_name}\"] = validation_data[\"preds_blitter_neutral_riskiest_50\"].rank(pct=True) + validation_data[\"preds_blitter1_neutral_riskiest_50\"].rank(pct=True) / 2\r\n",
    "tournament_data.loc[:, f\"preds_{model_name}\"] = tournament_data[\"preds_blitter_neutral_riskiest_50\"].rank(pct=True) + tournament_data[\"preds_blitter1_neutral_riskiest_50\"].rank(pct=True) / 2\r\n",
    "\r\n",
    "model_to_submit = f\"preds_{model_name}\"\r\n",
    "\r\n",
    "#rank again to fix decimals coming from the /2\r\n",
    "validation_data[\"prediction\"] = validation_data[model_to_submit].rank(pct=True)\r\n",
    "tournament_data[\"prediction\"] = tournament_data[model_to_submit].rank(pct=True)\r\n",
    "\r\n",
    "\r\n",
    "validation_data[\"prediction\"].to_csv(f\"validation_predictions_{current_round}_{model_to_submit}.csv\")\r\n",
    "tournament_data[\"prediction\"].to_csv(f\"tournament_predictions_{current_round}_{model_to_submit}.csv\")\r\n",
    "\r\n",
    "validation_stats = validation_metrics(validation_data, [model_to_submit], example_col=EXAMPLE_PREDS_COL, fast_mode=True)\r\n",
    "print(validation_stats[[\"mean\", \"sharpe\"]].to_markdown())"
   ],
   "outputs": [
    {
     "output_type": "stream",
     "name": "stdout",
     "text": [
      "|                |      mean |   sharpe |\n",
      "|:---------------|----------:|---------:|\n",
      "| preds_BLITTER3 | 0.0236422 |  1.06787 |\n"
     ]
    }
   ],
   "metadata": {}
  },
  {
   "cell_type": "code",
   "execution_count": 13,
   "source": [
    "model_name = f\"BLITTER4\"\r\n",
    "model = create_xgb_ranker(model_name)\r\n",
    "save_prediction(model, model_name, is_xgbRanker= True)"
   ],
   "outputs": [
    {
     "output_type": "stream",
     "name": "stdout",
     "text": [
      "No nans in the features this week!\n",
      "v Predicting on latest data\n",
      "v Neutralizing to risky features\n",
      "|                                    |      mean |   sharpe |\n",
      "|:-----------------------------------|----------:|---------:|\n",
      "| preds_BLITTER4_neutral_riskiest_50 | 0.0217391 | 0.864442 |\n"
     ]
    }
   ],
   "metadata": {}
  },
  {
   "cell_type": "code",
   "execution_count": 14,
   "source": [
    "validation_data.loc[:, f\"preds_{model_name}\"].hist()"
   ],
   "outputs": [
    {
     "output_type": "execute_result",
     "data": {
      "text/plain": [
       "<AxesSubplot:>"
      ]
     },
     "metadata": {},
     "execution_count": 14
    },
    {
     "output_type": "display_data",
     "data": {
      "image/png": "[encoded data removed]",
      "text/plain": [
       "<Figure size 432x288 with 1 Axes>"
      ]
     },
     "metadata": {
      "needs_background": "light"
     }
    },
    {
     "output_type": "stream",
     "name": "stdout",
     "text": []
    }
   ],
   "metadata": {}
  },
  {
   "cell_type": "code",
   "execution_count": 15,
   "source": [
    "model_name = f\"BLITTER4\"\r\n",
    "model = create_xgb_ranker(model_name)\r\n",
    "save_prediction(model, model_name, is_xgbRanker= False)"
   ],
   "outputs": [
    {
     "output_type": "stream",
     "name": "stdout",
     "text": [
      "No nans in the features this week!\n",
      "v Predicting on latest data\n",
      "v Neutralizing to risky features\n",
      "|                                    |      mean |   sharpe |\n",
      "|:-----------------------------------|----------:|---------:|\n",
      "| preds_BLITTER4_neutral_riskiest_50 | 0.0217391 | 0.864442 |\n"
     ]
    }
   ],
   "metadata": {}
  },
  {
   "cell_type": "code",
   "execution_count": 16,
   "source": [
    "model_name = f\"blitter5\"\r\n",
    "model = create_catboost_regressor(model_name)\r\n",
    "save_prediction(model, model_name)"
   ],
   "outputs": [
    {
     "output_type": "stream",
     "name": "stdout",
     "text": [
      "No nans in the features this week!\n",
      "v Predicting on latest data\n",
      "v Neutralizing to risky features\n",
      "|                                    |      mean |   sharpe |\n",
      "|:-----------------------------------|----------:|---------:|\n",
      "| preds_blitter5_neutral_riskiest_50 | 0.0233502 |  0.97543 |\n"
     ]
    }
   ],
   "metadata": {}
  },
  {
   "cell_type": "code",
   "execution_count": 17,
   "source": [
    "model_name = f\"blitter6\"\r\n",
    "loss_function = \"QueryRMSE\"\r\n",
    "\r\n",
    "model = create_catboost_ranker(model_name, loss_function)"
   ],
   "outputs": [
    {
     "output_type": "stream",
     "name": "stdout",
     "text": [
      "predicting blitter6\n",
      "No nans in the features this week!\n"
     ]
    }
   ],
   "metadata": {}
  },
  {
   "cell_type": "code",
   "execution_count": 18,
   "source": [
    "save_prediction(model, model_name, use_pool =True)"
   ],
   "outputs": [
    {
     "output_type": "stream",
     "name": "stdout",
     "text": [
      "v Predicting on latest data\n",
      "v Neutralizing to risky features\n",
      "|                                    |      mean |   sharpe |\n",
      "|:-----------------------------------|----------:|---------:|\n",
      "| preds_blitter6_neutral_riskiest_50 | 0.0173495 | 0.855438 |\n"
     ]
    }
   ],
   "metadata": {}
  },
  {
   "cell_type": "code",
   "execution_count": 19,
   "source": [
    "model_name = f\"blitter7\"\r\n",
    "loss_function = \"PairLogit:max_pairs=100000\"\r\n",
    "\r\n",
    "model = create_catboost_ranker(model_name, loss_function)\r\n"
   ],
   "outputs": [
    {
     "output_type": "stream",
     "name": "stdout",
     "text": [
      "predicting blitter7\n",
      "No nans in the features this week!\n"
     ]
    }
   ],
   "metadata": {}
  },
  {
   "cell_type": "code",
   "execution_count": 20,
   "source": [
    "save_prediction(model, model_name, use_pool =True)"
   ],
   "outputs": [
    {
     "output_type": "stream",
     "name": "stdout",
     "text": [
      "v Predicting on latest data\n",
      "v Neutralizing to risky features\n",
      "|                                    |      mean |   sharpe |\n",
      "|:-----------------------------------|----------:|---------:|\n",
      "| preds_blitter7_neutral_riskiest_50 | 0.0147554 | 0.726439 |\n"
     ]
    }
   ],
   "metadata": {}
  },
  {
   "cell_type": "markdown",
   "source": [
    "# TODO GroupKfold for non overlapping eras\r\n",
    "# optuna optimize\r\n",
    "\r\n",
    "# stacking"
   ],
   "metadata": {}
  },
  {
   "cell_type": "markdown",
   "source": [
    "LTR over slightly neutralized target"
   ],
   "metadata": {}
  }
 ],
 "metadata": {
  "interpreter": {
   "hash": "a85be61ea43e8b6e79189e6bca7a99912206a1ace4d1f752775c7cc0873391fd"
  },
  "kernelspec": {
   "name": "python3",
   "display_name": "Python 3.8.11 64-bit ('numerai': conda)"
  },
  "language_info": {
   "codemirror_mode": {
    "name": "ipython",
    "version": 3
   },
   "file_extension": ".py",
   "mimetype": "text/x-python",
   "name": "python",
   "nbconvert_exporter": "python",
   "pygments_lexer": "ipython3",
   "version": "3.8.11"
  }
 },
 "nbformat": 4,
 "nbformat_minor": 2
}